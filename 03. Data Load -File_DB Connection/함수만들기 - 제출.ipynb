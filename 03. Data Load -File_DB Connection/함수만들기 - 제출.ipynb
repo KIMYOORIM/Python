{
 "cells": [
  {
   "cell_type": "code",
   "execution_count": 19,
   "metadata": {},
   "outputs": [],
   "source": [
    "from isoweek import Week"
   ]
  },
  {
   "cell_type": "code",
   "execution_count": 45,
   "metadata": {},
   "outputs": [],
   "source": [
    "def preWeek(inputYearWeek, gapWeek):\n",
    "    currYear = str(inputYearWeek)[:4]\n",
    "    currWeek = str(inputYearWeek)[4:]\n",
    "    \n",
    "    currYear = int(currYear)\n",
    "    currWeek = int(currWeek)\n",
    "\n",
    "    if(currWeek > gapWeek):\n",
    "        answer = int(inputYearWeek) - int(gapWeek)\n",
    "        answer = str(answer)\n",
    "    else:\n",
    "        while(currWeek <= (gapWeek)):\n",
    "            currYear = currYear - 1\n",
    "            currWeek = currWeek + Week.last_week_of_year(currYear).week\n",
    "        currWeek = currWeek - gapWeek\n",
    "        if(currWeek < 10):\n",
    "            answer = str(currYear) + \"0\" + str(currWeek)\n",
    "        else:\n",
    "            answer = str(currYear) + str(currWeek)\n",
    "    return answer"
   ]
  },
  {
   "cell_type": "code",
   "execution_count": 48,
   "metadata": {},
   "outputs": [
    {
     "data": {
      "text/plain": [
       "'201910'"
      ]
     },
     "execution_count": 48,
     "metadata": {},
     "output_type": "execute_result"
    }
   ],
   "source": [
    "preWeek(\"201952\",42)"
   ]
  }
 ],
 "metadata": {
  "kernelspec": {
   "display_name": "Python 3",
   "language": "python",
   "name": "python3"
  },
  "language_info": {
   "codemirror_mode": {
    "name": "ipython",
    "version": 3
   },
   "file_extension": ".py",
   "mimetype": "text/x-python",
   "name": "python",
   "nbconvert_exporter": "python",
   "pygments_lexer": "ipython3",
   "version": "3.6.4"
  }
 },
 "nbformat": 4,
 "nbformat_minor": 2
}
