{
 "cells": [
  {
   "cell_type": "code",
   "execution_count": 4,
   "metadata": {},
   "outputs": [],
   "source": [
    "from selenium import webdriver\n",
    "from bs4 import BeautifulSoup\n",
    "import bs4\n",
    "driver = webdriver.Chrome(\"C:/Users/SMART-04/Downloads/chromedriver_win32 (1)/chromedriver.exe\")\n",
    "driver.get('http://www.kopo.ac.kr/kangseo/content.do?menu=262')\n",
    "html = driver.page_source\n",
    "bs = bs4.BeautifulSoup(html,'html.parser')"
   ]
  },
  {
   "cell_type": "code",
   "execution_count": 5,
   "metadata": {},
   "outputs": [
    {
     "data": {
      "text/plain": [
       "[<th scope=\"col\">구분</th>,\n",
       " <th scope=\"col\">조식</th>,\n",
       " <th scope=\"col\">중식</th>,\n",
       " <th scope=\"col\">석식</th>]"
      ]
     },
     "execution_count": 5,
     "metadata": {},
     "output_type": "execute_result"
    }
   ],
   "source": [
    "columns=bs.select('thead > tr > th')\n",
    "columns"
   ]
  },
  {
   "cell_type": "code",
   "execution_count": 6,
   "metadata": {},
   "outputs": [],
   "source": [
    "columnlist=[]\n",
    "# for each 사용하여  columnlist 에 어펜드 후  데이터 프레임 으로 변환\n",
    "for column in columns:\n",
    "    columnlist.append(column.text)"
   ]
  },
  {
   "cell_type": "code",
   "execution_count": 7,
   "metadata": {},
   "outputs": [
    {
     "data": {
      "text/plain": [
       "['구분', '조식', '중식', '석식']"
      ]
     },
     "execution_count": 7,
     "metadata": {},
     "output_type": "execute_result"
    }
   ],
   "source": [
    "columnlist"
   ]
  },
  {
   "cell_type": "code",
   "execution_count": 8,
   "metadata": {},
   "outputs": [],
   "source": [
    "contents=bs.select('tbody > tr')\n",
    "dfcontent=[]\n",
    "alldfcontents=[]\n",
    "for content in contents:\n",
    "    tds=content.findAll(\"td\")\n",
    "    for td in tds:\n",
    "        if(td.text==\"None\"):\n",
    "            continue;\n",
    "        dfcontent.append(td.text)\n",
    "    alldfcontents.append(dfcontent)"
   ]
  },
  {
   "cell_type": "code",
   "execution_count": 9,
   "metadata": {},
   "outputs": [
    {
     "data": {
      "text/plain": [
       "[[\"document.write(getDay2('2019-05-20 00:00:00.0'));2019-05-20월요일\",\n",
       "  '\\n\\n\\n',\n",
       "  '\\n가츠동덮밥,미소장국,두부샐러드,마늘쫑무침,김치\\n',\n",
       "  '\\n\\n\\n',\n",
       "  \"document.write(getDay2('2019-05-21 00:00:00.0'));2019-05-21화요일\",\n",
       "  '\\n\\n\\n',\n",
       "  '\\n흑미밥,참치김치찌개,숯불돼지불고기,계란후라이,비엔나감자조림,깍두기\\n',\n",
       "  '\\n\\n\\n',\n",
       "  \"document.write(getDay2('2019-05-22 00:00:00.0'));2019-05-22수요일\",\n",
       "  '\\n\\n\\n',\n",
       "  '\\n소고기볶음밥,어묵국,떡볶이*김말이,단무지,주스,김치\\n',\n",
       "  '\\n\\n\\n',\n",
       "  \"document.write(getDay2('2019-05-23 00:00:00.0'));2019-05-23목요일\",\n",
       "  '\\n\\n\\n',\n",
       "  '\\n미트스파게티,스프,스틱마늘빵,콘샐러드,할라피뇨*피클\\n',\n",
       "  '\\n\\n\\n',\n",
       "  \"document.write(getDay2('2019-05-24 00:00:00.0'));2019-05-24금요일\",\n",
       "  '\\n\\n\\n',\n",
       "  '\\n백미밥,우거지된장국,청양풍닭볶음,두부찜*양념간장,버섯피망볶음,김치\\n',\n",
       "  '\\n\\n\\n',\n",
       "  \"document.write(getDay2('2019-05-25 00:00:00.0'));2019-05-25토요일\",\n",
       "  '\\n\\n\\n',\n",
       "  '\\n\\n\\n',\n",
       "  '\\n\\n\\n',\n",
       "  \"document.write(getDay2('2019-05-26 00:00:00.0'));2019-05-26일요일\",\n",
       "  '\\n\\n\\n',\n",
       "  '\\n\\n\\n',\n",
       "  '\\n\\n\\n'],\n",
       " [\"document.write(getDay2('2019-05-20 00:00:00.0'));2019-05-20월요일\",\n",
       "  '\\n\\n\\n',\n",
       "  '\\n가츠동덮밥,미소장국,두부샐러드,마늘쫑무침,김치\\n',\n",
       "  '\\n\\n\\n',\n",
       "  \"document.write(getDay2('2019-05-21 00:00:00.0'));2019-05-21화요일\",\n",
       "  '\\n\\n\\n',\n",
       "  '\\n흑미밥,참치김치찌개,숯불돼지불고기,계란후라이,비엔나감자조림,깍두기\\n',\n",
       "  '\\n\\n\\n',\n",
       "  \"document.write(getDay2('2019-05-22 00:00:00.0'));2019-05-22수요일\",\n",
       "  '\\n\\n\\n',\n",
       "  '\\n소고기볶음밥,어묵국,떡볶이*김말이,단무지,주스,김치\\n',\n",
       "  '\\n\\n\\n',\n",
       "  \"document.write(getDay2('2019-05-23 00:00:00.0'));2019-05-23목요일\",\n",
       "  '\\n\\n\\n',\n",
       "  '\\n미트스파게티,스프,스틱마늘빵,콘샐러드,할라피뇨*피클\\n',\n",
       "  '\\n\\n\\n',\n",
       "  \"document.write(getDay2('2019-05-24 00:00:00.0'));2019-05-24금요일\",\n",
       "  '\\n\\n\\n',\n",
       "  '\\n백미밥,우거지된장국,청양풍닭볶음,두부찜*양념간장,버섯피망볶음,김치\\n',\n",
       "  '\\n\\n\\n',\n",
       "  \"document.write(getDay2('2019-05-25 00:00:00.0'));2019-05-25토요일\",\n",
       "  '\\n\\n\\n',\n",
       "  '\\n\\n\\n',\n",
       "  '\\n\\n\\n',\n",
       "  \"document.write(getDay2('2019-05-26 00:00:00.0'));2019-05-26일요일\",\n",
       "  '\\n\\n\\n',\n",
       "  '\\n\\n\\n',\n",
       "  '\\n\\n\\n'],\n",
       " [\"document.write(getDay2('2019-05-20 00:00:00.0'));2019-05-20월요일\",\n",
       "  '\\n\\n\\n',\n",
       "  '\\n가츠동덮밥,미소장국,두부샐러드,마늘쫑무침,김치\\n',\n",
       "  '\\n\\n\\n',\n",
       "  \"document.write(getDay2('2019-05-21 00:00:00.0'));2019-05-21화요일\",\n",
       "  '\\n\\n\\n',\n",
       "  '\\n흑미밥,참치김치찌개,숯불돼지불고기,계란후라이,비엔나감자조림,깍두기\\n',\n",
       "  '\\n\\n\\n',\n",
       "  \"document.write(getDay2('2019-05-22 00:00:00.0'));2019-05-22수요일\",\n",
       "  '\\n\\n\\n',\n",
       "  '\\n소고기볶음밥,어묵국,떡볶이*김말이,단무지,주스,김치\\n',\n",
       "  '\\n\\n\\n',\n",
       "  \"document.write(getDay2('2019-05-23 00:00:00.0'));2019-05-23목요일\",\n",
       "  '\\n\\n\\n',\n",
       "  '\\n미트스파게티,스프,스틱마늘빵,콘샐러드,할라피뇨*피클\\n',\n",
       "  '\\n\\n\\n',\n",
       "  \"document.write(getDay2('2019-05-24 00:00:00.0'));2019-05-24금요일\",\n",
       "  '\\n\\n\\n',\n",
       "  '\\n백미밥,우거지된장국,청양풍닭볶음,두부찜*양념간장,버섯피망볶음,김치\\n',\n",
       "  '\\n\\n\\n',\n",
       "  \"document.write(getDay2('2019-05-25 00:00:00.0'));2019-05-25토요일\",\n",
       "  '\\n\\n\\n',\n",
       "  '\\n\\n\\n',\n",
       "  '\\n\\n\\n',\n",
       "  \"document.write(getDay2('2019-05-26 00:00:00.0'));2019-05-26일요일\",\n",
       "  '\\n\\n\\n',\n",
       "  '\\n\\n\\n',\n",
       "  '\\n\\n\\n'],\n",
       " [\"document.write(getDay2('2019-05-20 00:00:00.0'));2019-05-20월요일\",\n",
       "  '\\n\\n\\n',\n",
       "  '\\n가츠동덮밥,미소장국,두부샐러드,마늘쫑무침,김치\\n',\n",
       "  '\\n\\n\\n',\n",
       "  \"document.write(getDay2('2019-05-21 00:00:00.0'));2019-05-21화요일\",\n",
       "  '\\n\\n\\n',\n",
       "  '\\n흑미밥,참치김치찌개,숯불돼지불고기,계란후라이,비엔나감자조림,깍두기\\n',\n",
       "  '\\n\\n\\n',\n",
       "  \"document.write(getDay2('2019-05-22 00:00:00.0'));2019-05-22수요일\",\n",
       "  '\\n\\n\\n',\n",
       "  '\\n소고기볶음밥,어묵국,떡볶이*김말이,단무지,주스,김치\\n',\n",
       "  '\\n\\n\\n',\n",
       "  \"document.write(getDay2('2019-05-23 00:00:00.0'));2019-05-23목요일\",\n",
       "  '\\n\\n\\n',\n",
       "  '\\n미트스파게티,스프,스틱마늘빵,콘샐러드,할라피뇨*피클\\n',\n",
       "  '\\n\\n\\n',\n",
       "  \"document.write(getDay2('2019-05-24 00:00:00.0'));2019-05-24금요일\",\n",
       "  '\\n\\n\\n',\n",
       "  '\\n백미밥,우거지된장국,청양풍닭볶음,두부찜*양념간장,버섯피망볶음,김치\\n',\n",
       "  '\\n\\n\\n',\n",
       "  \"document.write(getDay2('2019-05-25 00:00:00.0'));2019-05-25토요일\",\n",
       "  '\\n\\n\\n',\n",
       "  '\\n\\n\\n',\n",
       "  '\\n\\n\\n',\n",
       "  \"document.write(getDay2('2019-05-26 00:00:00.0'));2019-05-26일요일\",\n",
       "  '\\n\\n\\n',\n",
       "  '\\n\\n\\n',\n",
       "  '\\n\\n\\n'],\n",
       " [\"document.write(getDay2('2019-05-20 00:00:00.0'));2019-05-20월요일\",\n",
       "  '\\n\\n\\n',\n",
       "  '\\n가츠동덮밥,미소장국,두부샐러드,마늘쫑무침,김치\\n',\n",
       "  '\\n\\n\\n',\n",
       "  \"document.write(getDay2('2019-05-21 00:00:00.0'));2019-05-21화요일\",\n",
       "  '\\n\\n\\n',\n",
       "  '\\n흑미밥,참치김치찌개,숯불돼지불고기,계란후라이,비엔나감자조림,깍두기\\n',\n",
       "  '\\n\\n\\n',\n",
       "  \"document.write(getDay2('2019-05-22 00:00:00.0'));2019-05-22수요일\",\n",
       "  '\\n\\n\\n',\n",
       "  '\\n소고기볶음밥,어묵국,떡볶이*김말이,단무지,주스,김치\\n',\n",
       "  '\\n\\n\\n',\n",
       "  \"document.write(getDay2('2019-05-23 00:00:00.0'));2019-05-23목요일\",\n",
       "  '\\n\\n\\n',\n",
       "  '\\n미트스파게티,스프,스틱마늘빵,콘샐러드,할라피뇨*피클\\n',\n",
       "  '\\n\\n\\n',\n",
       "  \"document.write(getDay2('2019-05-24 00:00:00.0'));2019-05-24금요일\",\n",
       "  '\\n\\n\\n',\n",
       "  '\\n백미밥,우거지된장국,청양풍닭볶음,두부찜*양념간장,버섯피망볶음,김치\\n',\n",
       "  '\\n\\n\\n',\n",
       "  \"document.write(getDay2('2019-05-25 00:00:00.0'));2019-05-25토요일\",\n",
       "  '\\n\\n\\n',\n",
       "  '\\n\\n\\n',\n",
       "  '\\n\\n\\n',\n",
       "  \"document.write(getDay2('2019-05-26 00:00:00.0'));2019-05-26일요일\",\n",
       "  '\\n\\n\\n',\n",
       "  '\\n\\n\\n',\n",
       "  '\\n\\n\\n'],\n",
       " [\"document.write(getDay2('2019-05-20 00:00:00.0'));2019-05-20월요일\",\n",
       "  '\\n\\n\\n',\n",
       "  '\\n가츠동덮밥,미소장국,두부샐러드,마늘쫑무침,김치\\n',\n",
       "  '\\n\\n\\n',\n",
       "  \"document.write(getDay2('2019-05-21 00:00:00.0'));2019-05-21화요일\",\n",
       "  '\\n\\n\\n',\n",
       "  '\\n흑미밥,참치김치찌개,숯불돼지불고기,계란후라이,비엔나감자조림,깍두기\\n',\n",
       "  '\\n\\n\\n',\n",
       "  \"document.write(getDay2('2019-05-22 00:00:00.0'));2019-05-22수요일\",\n",
       "  '\\n\\n\\n',\n",
       "  '\\n소고기볶음밥,어묵국,떡볶이*김말이,단무지,주스,김치\\n',\n",
       "  '\\n\\n\\n',\n",
       "  \"document.write(getDay2('2019-05-23 00:00:00.0'));2019-05-23목요일\",\n",
       "  '\\n\\n\\n',\n",
       "  '\\n미트스파게티,스프,스틱마늘빵,콘샐러드,할라피뇨*피클\\n',\n",
       "  '\\n\\n\\n',\n",
       "  \"document.write(getDay2('2019-05-24 00:00:00.0'));2019-05-24금요일\",\n",
       "  '\\n\\n\\n',\n",
       "  '\\n백미밥,우거지된장국,청양풍닭볶음,두부찜*양념간장,버섯피망볶음,김치\\n',\n",
       "  '\\n\\n\\n',\n",
       "  \"document.write(getDay2('2019-05-25 00:00:00.0'));2019-05-25토요일\",\n",
       "  '\\n\\n\\n',\n",
       "  '\\n\\n\\n',\n",
       "  '\\n\\n\\n',\n",
       "  \"document.write(getDay2('2019-05-26 00:00:00.0'));2019-05-26일요일\",\n",
       "  '\\n\\n\\n',\n",
       "  '\\n\\n\\n',\n",
       "  '\\n\\n\\n'],\n",
       " [\"document.write(getDay2('2019-05-20 00:00:00.0'));2019-05-20월요일\",\n",
       "  '\\n\\n\\n',\n",
       "  '\\n가츠동덮밥,미소장국,두부샐러드,마늘쫑무침,김치\\n',\n",
       "  '\\n\\n\\n',\n",
       "  \"document.write(getDay2('2019-05-21 00:00:00.0'));2019-05-21화요일\",\n",
       "  '\\n\\n\\n',\n",
       "  '\\n흑미밥,참치김치찌개,숯불돼지불고기,계란후라이,비엔나감자조림,깍두기\\n',\n",
       "  '\\n\\n\\n',\n",
       "  \"document.write(getDay2('2019-05-22 00:00:00.0'));2019-05-22수요일\",\n",
       "  '\\n\\n\\n',\n",
       "  '\\n소고기볶음밥,어묵국,떡볶이*김말이,단무지,주스,김치\\n',\n",
       "  '\\n\\n\\n',\n",
       "  \"document.write(getDay2('2019-05-23 00:00:00.0'));2019-05-23목요일\",\n",
       "  '\\n\\n\\n',\n",
       "  '\\n미트스파게티,스프,스틱마늘빵,콘샐러드,할라피뇨*피클\\n',\n",
       "  '\\n\\n\\n',\n",
       "  \"document.write(getDay2('2019-05-24 00:00:00.0'));2019-05-24금요일\",\n",
       "  '\\n\\n\\n',\n",
       "  '\\n백미밥,우거지된장국,청양풍닭볶음,두부찜*양념간장,버섯피망볶음,김치\\n',\n",
       "  '\\n\\n\\n',\n",
       "  \"document.write(getDay2('2019-05-25 00:00:00.0'));2019-05-25토요일\",\n",
       "  '\\n\\n\\n',\n",
       "  '\\n\\n\\n',\n",
       "  '\\n\\n\\n',\n",
       "  \"document.write(getDay2('2019-05-26 00:00:00.0'));2019-05-26일요일\",\n",
       "  '\\n\\n\\n',\n",
       "  '\\n\\n\\n',\n",
       "  '\\n\\n\\n']]"
      ]
     },
     "execution_count": 9,
     "metadata": {},
     "output_type": "execute_result"
    }
   ],
   "source": [
    "alldfcontents"
   ]
  },
  {
   "cell_type": "code",
   "execution_count": 11,
   "metadata": {},
   "outputs": [
    {
     "data": {
      "text/plain": [
       "[<td><script>document.write(getDay2('2019-05-26 00:00:00.0'));</script>2019-05-26<br/>일요일</td>,\n",
       " <td>\n",
       " <span class=\"kcal\"></span>\n",
       " <span></span>\n",
       " </td>,\n",
       " <td>\n",
       " <span class=\"kcal\"></span>\n",
       " <span></span>\n",
       " </td>,\n",
       " <td>\n",
       " <span class=\"kcal\"></span>\n",
       " <span></span>\n",
       " </td>]"
      ]
     },
     "execution_count": 11,
     "metadata": {},
     "output_type": "execute_result"
    }
   ],
   "source": [
    "tds"
   ]
  },
  {
   "cell_type": "code",
   "execution_count": 10,
   "metadata": {
    "scrolled": true
   },
   "outputs": [
    {
     "data": {
      "text/plain": [
       "[\"document.write(getDay2('2019-05-20 00:00:00.0'));2019-05-20월요일\",\n",
       " '\\n\\n\\n',\n",
       " '\\n가츠동덮밥,미소장국,두부샐러드,마늘쫑무침,김치\\n',\n",
       " '\\n\\n\\n',\n",
       " \"document.write(getDay2('2019-05-21 00:00:00.0'));2019-05-21화요일\",\n",
       " '\\n\\n\\n',\n",
       " '\\n흑미밥,참치김치찌개,숯불돼지불고기,계란후라이,비엔나감자조림,깍두기\\n',\n",
       " '\\n\\n\\n',\n",
       " \"document.write(getDay2('2019-05-22 00:00:00.0'));2019-05-22수요일\",\n",
       " '\\n\\n\\n',\n",
       " '\\n소고기볶음밥,어묵국,떡볶이*김말이,단무지,주스,김치\\n',\n",
       " '\\n\\n\\n',\n",
       " \"document.write(getDay2('2019-05-23 00:00:00.0'));2019-05-23목요일\",\n",
       " '\\n\\n\\n',\n",
       " '\\n미트스파게티,스프,스틱마늘빵,콘샐러드,할라피뇨*피클\\n',\n",
       " '\\n\\n\\n',\n",
       " \"document.write(getDay2('2019-05-24 00:00:00.0'));2019-05-24금요일\",\n",
       " '\\n\\n\\n',\n",
       " '\\n백미밥,우거지된장국,청양풍닭볶음,두부찜*양념간장,버섯피망볶음,김치\\n',\n",
       " '\\n\\n\\n',\n",
       " \"document.write(getDay2('2019-05-25 00:00:00.0'));2019-05-25토요일\",\n",
       " '\\n\\n\\n',\n",
       " '\\n\\n\\n',\n",
       " '\\n\\n\\n',\n",
       " \"document.write(getDay2('2019-05-26 00:00:00.0'));2019-05-26일요일\",\n",
       " '\\n\\n\\n',\n",
       " '\\n\\n\\n',\n",
       " '\\n\\n\\n']"
      ]
     },
     "execution_count": 10,
     "metadata": {},
     "output_type": "execute_result"
    }
   ],
   "source": [
    "dfcontent"
   ]
  },
  {
   "cell_type": "code",
   "execution_count": 13,
   "metadata": {},
   "outputs": [
    {
     "data": {
      "text/plain": [
       "28"
      ]
     },
     "execution_count": 13,
     "metadata": {},
     "output_type": "execute_result"
    }
   ],
   "source": [
    "len(dfcontent)"
   ]
  },
  {
   "cell_type": "code",
   "execution_count": 39,
   "metadata": {},
   "outputs": [],
   "source": [
    "##string형태\n",
    "import re\n",
    "hangul = re.compile('[^ \\u3131-\\u3163\\uac00-\\ud7a3]+')\n",
    "s = str(dfcontent)\n",
    "result = hangul.sub('', s)\n",
    "print(result)\n",
    "type(result)"
   ]
  },
  {
   "cell_type": "code",
   "execution_count": 11,
   "metadata": {},
   "outputs": [],
   "source": [
    "import pandas as pd"
   ]
  },
  {
   "cell_type": "code",
   "execution_count": 15,
   "metadata": {
    "scrolled": true
   },
   "outputs": [
    {
     "ename": "ValueError",
     "evalue": "Shape of passed values is (1, 28), indices imply (4, 28)",
     "output_type": "error",
     "traceback": [
      "\u001b[1;31m---------------------------------------------------------------------------\u001b[0m",
      "\u001b[1;31mValueError\u001b[0m                                Traceback (most recent call last)",
      "\u001b[1;32mC:\\ProgramData\\Anaconda3\\lib\\site-packages\\pandas\\core\\internals.py\u001b[0m in \u001b[0;36mcreate_block_manager_from_blocks\u001b[1;34m(blocks, axes)\u001b[0m\n\u001b[0;32m   4621\u001b[0m                 blocks = [make_block(values=blocks[0],\n\u001b[1;32m-> 4622\u001b[1;33m                                      placement=slice(0, len(axes[0])))]\n\u001b[0m\u001b[0;32m   4623\u001b[0m \u001b[1;33m\u001b[0m\u001b[0m\n",
      "\u001b[1;32mC:\\ProgramData\\Anaconda3\\lib\\site-packages\\pandas\\core\\internals.py\u001b[0m in \u001b[0;36mmake_block\u001b[1;34m(values, placement, klass, ndim, dtype, fastpath)\u001b[0m\n\u001b[0;32m   2956\u001b[0m \u001b[1;33m\u001b[0m\u001b[0m\n\u001b[1;32m-> 2957\u001b[1;33m     \u001b[1;32mreturn\u001b[0m \u001b[0mklass\u001b[0m\u001b[1;33m(\u001b[0m\u001b[0mvalues\u001b[0m\u001b[1;33m,\u001b[0m \u001b[0mndim\u001b[0m\u001b[1;33m=\u001b[0m\u001b[0mndim\u001b[0m\u001b[1;33m,\u001b[0m \u001b[0mfastpath\u001b[0m\u001b[1;33m=\u001b[0m\u001b[0mfastpath\u001b[0m\u001b[1;33m,\u001b[0m \u001b[0mplacement\u001b[0m\u001b[1;33m=\u001b[0m\u001b[0mplacement\u001b[0m\u001b[1;33m)\u001b[0m\u001b[1;33m\u001b[0m\u001b[0m\n\u001b[0m\u001b[0;32m   2958\u001b[0m \u001b[1;33m\u001b[0m\u001b[0m\n",
      "\u001b[1;32mC:\\ProgramData\\Anaconda3\\lib\\site-packages\\pandas\\core\\internals.py\u001b[0m in \u001b[0;36m__init__\u001b[1;34m(self, values, ndim, fastpath, placement, **kwargs)\u001b[0m\n\u001b[0;32m   2081\u001b[0m         super(ObjectBlock, self).__init__(values, ndim=ndim, fastpath=fastpath,\n\u001b[1;32m-> 2082\u001b[1;33m                                           placement=placement, **kwargs)\n\u001b[0m\u001b[0;32m   2083\u001b[0m \u001b[1;33m\u001b[0m\u001b[0m\n",
      "\u001b[1;32mC:\\ProgramData\\Anaconda3\\lib\\site-packages\\pandas\\core\\internals.py\u001b[0m in \u001b[0;36m__init__\u001b[1;34m(self, values, placement, ndim, fastpath)\u001b[0m\n\u001b[0;32m    119\u001b[0m                              'implies %d' % (len(self.values),\n\u001b[1;32m--> 120\u001b[1;33m                                              len(self.mgr_locs)))\n\u001b[0m\u001b[0;32m    121\u001b[0m \u001b[1;33m\u001b[0m\u001b[0m\n",
      "\u001b[1;31mValueError\u001b[0m: Wrong number of items passed 1, placement implies 4",
      "\nDuring handling of the above exception, another exception occurred:\n",
      "\u001b[1;31mValueError\u001b[0m                                Traceback (most recent call last)",
      "\u001b[1;32m<ipython-input-15-c39caf538fd4>\u001b[0m in \u001b[0;36m<module>\u001b[1;34m()\u001b[0m\n\u001b[1;32m----> 1\u001b[1;33m \u001b[0mdf\u001b[0m \u001b[1;33m=\u001b[0m \u001b[0mpd\u001b[0m\u001b[1;33m.\u001b[0m\u001b[0mDataFrame\u001b[0m\u001b[1;33m(\u001b[0m\u001b[0mdata\u001b[0m\u001b[1;33m=\u001b[0m\u001b[0mdfcontent\u001b[0m\u001b[1;33m,\u001b[0m\u001b[0mcolumns\u001b[0m\u001b[1;33m=\u001b[0m\u001b[0mcolumnlist\u001b[0m\u001b[1;33m)\u001b[0m\u001b[1;33m\u001b[0m\u001b[0m\n\u001b[0m\u001b[0;32m      2\u001b[0m \u001b[0mdf\u001b[0m\u001b[1;33m\u001b[0m\u001b[0m\n",
      "\u001b[1;32mC:\\ProgramData\\Anaconda3\\lib\\site-packages\\pandas\\core\\frame.py\u001b[0m in \u001b[0;36m__init__\u001b[1;34m(self, data, index, columns, dtype, copy)\u001b[0m\n\u001b[0;32m    383\u001b[0m                 \u001b[1;32melse\u001b[0m\u001b[1;33m:\u001b[0m\u001b[1;33m\u001b[0m\u001b[0m\n\u001b[0;32m    384\u001b[0m                     mgr = self._init_ndarray(data, index, columns, dtype=dtype,\n\u001b[1;32m--> 385\u001b[1;33m                                              copy=copy)\n\u001b[0m\u001b[0;32m    386\u001b[0m             \u001b[1;32melse\u001b[0m\u001b[1;33m:\u001b[0m\u001b[1;33m\u001b[0m\u001b[0m\n\u001b[0;32m    387\u001b[0m                 \u001b[0mmgr\u001b[0m \u001b[1;33m=\u001b[0m \u001b[0mself\u001b[0m\u001b[1;33m.\u001b[0m\u001b[0m_init_dict\u001b[0m\u001b[1;33m(\u001b[0m\u001b[1;33m{\u001b[0m\u001b[1;33m}\u001b[0m\u001b[1;33m,\u001b[0m \u001b[0mindex\u001b[0m\u001b[1;33m,\u001b[0m \u001b[0mcolumns\u001b[0m\u001b[1;33m,\u001b[0m \u001b[0mdtype\u001b[0m\u001b[1;33m=\u001b[0m\u001b[0mdtype\u001b[0m\u001b[1;33m)\u001b[0m\u001b[1;33m\u001b[0m\u001b[0m\n",
      "\u001b[1;32mC:\\ProgramData\\Anaconda3\\lib\\site-packages\\pandas\\core\\frame.py\u001b[0m in \u001b[0;36m_init_ndarray\u001b[1;34m(self, values, index, columns, dtype, copy)\u001b[0m\n\u001b[0;32m    531\u001b[0m             \u001b[0mvalues\u001b[0m \u001b[1;33m=\u001b[0m \u001b[0mmaybe_infer_to_datetimelike\u001b[0m\u001b[1;33m(\u001b[0m\u001b[0mvalues\u001b[0m\u001b[1;33m)\u001b[0m\u001b[1;33m\u001b[0m\u001b[0m\n\u001b[0;32m    532\u001b[0m \u001b[1;33m\u001b[0m\u001b[0m\n\u001b[1;32m--> 533\u001b[1;33m         \u001b[1;32mreturn\u001b[0m \u001b[0mcreate_block_manager_from_blocks\u001b[0m\u001b[1;33m(\u001b[0m\u001b[1;33m[\u001b[0m\u001b[0mvalues\u001b[0m\u001b[1;33m]\u001b[0m\u001b[1;33m,\u001b[0m \u001b[1;33m[\u001b[0m\u001b[0mcolumns\u001b[0m\u001b[1;33m,\u001b[0m \u001b[0mindex\u001b[0m\u001b[1;33m]\u001b[0m\u001b[1;33m)\u001b[0m\u001b[1;33m\u001b[0m\u001b[0m\n\u001b[0m\u001b[0;32m    534\u001b[0m \u001b[1;33m\u001b[0m\u001b[0m\n\u001b[0;32m    535\u001b[0m     \u001b[1;33m@\u001b[0m\u001b[0mproperty\u001b[0m\u001b[1;33m\u001b[0m\u001b[0m\n",
      "\u001b[1;32mC:\\ProgramData\\Anaconda3\\lib\\site-packages\\pandas\\core\\internals.py\u001b[0m in \u001b[0;36mcreate_block_manager_from_blocks\u001b[1;34m(blocks, axes)\u001b[0m\n\u001b[0;32m   4629\u001b[0m         \u001b[0mblocks\u001b[0m \u001b[1;33m=\u001b[0m \u001b[1;33m[\u001b[0m\u001b[0mgetattr\u001b[0m\u001b[1;33m(\u001b[0m\u001b[0mb\u001b[0m\u001b[1;33m,\u001b[0m \u001b[1;34m'values'\u001b[0m\u001b[1;33m,\u001b[0m \u001b[0mb\u001b[0m\u001b[1;33m)\u001b[0m \u001b[1;32mfor\u001b[0m \u001b[0mb\u001b[0m \u001b[1;32min\u001b[0m \u001b[0mblocks\u001b[0m\u001b[1;33m]\u001b[0m\u001b[1;33m\u001b[0m\u001b[0m\n\u001b[0;32m   4630\u001b[0m         \u001b[0mtot_items\u001b[0m \u001b[1;33m=\u001b[0m \u001b[0msum\u001b[0m\u001b[1;33m(\u001b[0m\u001b[0mb\u001b[0m\u001b[1;33m.\u001b[0m\u001b[0mshape\u001b[0m\u001b[1;33m[\u001b[0m\u001b[1;36m0\u001b[0m\u001b[1;33m]\u001b[0m \u001b[1;32mfor\u001b[0m \u001b[0mb\u001b[0m \u001b[1;32min\u001b[0m \u001b[0mblocks\u001b[0m\u001b[1;33m)\u001b[0m\u001b[1;33m\u001b[0m\u001b[0m\n\u001b[1;32m-> 4631\u001b[1;33m         \u001b[0mconstruction_error\u001b[0m\u001b[1;33m(\u001b[0m\u001b[0mtot_items\u001b[0m\u001b[1;33m,\u001b[0m \u001b[0mblocks\u001b[0m\u001b[1;33m[\u001b[0m\u001b[1;36m0\u001b[0m\u001b[1;33m]\u001b[0m\u001b[1;33m.\u001b[0m\u001b[0mshape\u001b[0m\u001b[1;33m[\u001b[0m\u001b[1;36m1\u001b[0m\u001b[1;33m:\u001b[0m\u001b[1;33m]\u001b[0m\u001b[1;33m,\u001b[0m \u001b[0maxes\u001b[0m\u001b[1;33m,\u001b[0m \u001b[0me\u001b[0m\u001b[1;33m)\u001b[0m\u001b[1;33m\u001b[0m\u001b[0m\n\u001b[0m\u001b[0;32m   4632\u001b[0m \u001b[1;33m\u001b[0m\u001b[0m\n\u001b[0;32m   4633\u001b[0m \u001b[1;33m\u001b[0m\u001b[0m\n",
      "\u001b[1;32mC:\\ProgramData\\Anaconda3\\lib\\site-packages\\pandas\\core\\internals.py\u001b[0m in \u001b[0;36mconstruction_error\u001b[1;34m(tot_items, block_shape, axes, e)\u001b[0m\n\u001b[0;32m   4606\u001b[0m         \u001b[1;32mraise\u001b[0m \u001b[0mValueError\u001b[0m\u001b[1;33m(\u001b[0m\u001b[1;34m\"Empty data passed with indices specified.\"\u001b[0m\u001b[1;33m)\u001b[0m\u001b[1;33m\u001b[0m\u001b[0m\n\u001b[0;32m   4607\u001b[0m     raise ValueError(\"Shape of passed values is {0}, indices imply {1}\".format(\n\u001b[1;32m-> 4608\u001b[1;33m         passed, implied))\n\u001b[0m\u001b[0;32m   4609\u001b[0m \u001b[1;33m\u001b[0m\u001b[0m\n\u001b[0;32m   4610\u001b[0m \u001b[1;33m\u001b[0m\u001b[0m\n",
      "\u001b[1;31mValueError\u001b[0m: Shape of passed values is (1, 28), indices imply (4, 28)"
     ]
    }
   ],
   "source": [
    "df = pd.DataFrame(data=dfcontent,columns=columnlist)\n",
    "df"
   ]
  }
 ],
 "metadata": {
  "kernelspec": {
   "display_name": "Python 3",
   "language": "python",
   "name": "python3"
  },
  "language_info": {
   "codemirror_mode": {
    "name": "ipython",
    "version": 3
   },
   "file_extension": ".py",
   "mimetype": "text/x-python",
   "name": "python",
   "nbconvert_exporter": "python",
   "pygments_lexer": "ipython3",
   "version": "3.6.4"
  }
 },
 "nbformat": 4,
 "nbformat_minor": 2
}
