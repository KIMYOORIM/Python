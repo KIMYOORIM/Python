{
 "cells": [
  {
   "cell_type": "code",
   "execution_count": 31,
   "metadata": {},
   "outputs": [],
   "source": [
    "## url 변수 담기 \n",
    "resp = requests.get('https://www.timeanddate.com/holidays/south-korea/')\n",
    "\n",
    "resp.encoding='utf-8'\n",
    "html = resp.text\n",
    "bs = bs4.BeautifulSoup(html,'html.parser') \n",
    "\n",
    "# html 부분구조 가져오기\n",
    "columns=bs.select('thead > tr.head > th.sep')\n",
    "columns\n",
    "\n",
    "columnlist=[]\n",
    "# for each 사용하여  columnlist 에 어펜드 후  데이터 프레임 으로 변환\n",
    "for column in columns:\n",
    "    columnlist.append(column.text)\n",
    "\n",
    "contents=bs.select('tbody > tr')\n",
    "dfcontent=[]\n",
    "alldfcontents=[]\n",
    "for content in contents:\n",
    "    tds=content.findAll(\"td\")\n",
    "    for td in tds:\n",
    "        if(td.text==\"None\"):\n",
    "            continue;\n",
    "        dfcontent.append(td.text)\n",
    "    alldfcontents.append(dfcontent)\n",
    "    "
   ]
  }
 ],
 "metadata": {
  "kernelspec": {
   "display_name": "Python 3",
   "language": "python",
   "name": "python3"
  },
  "language_info": {
   "codemirror_mode": {
    "name": "ipython",
    "version": 3
   },
   "file_extension": ".py",
   "mimetype": "text/x-python",
   "name": "python",
   "nbconvert_exporter": "python",
   "pygments_lexer": "ipython3",
   "version": "3.6.4"
  }
 },
 "nbformat": 4,
 "nbformat_minor": 2
}
