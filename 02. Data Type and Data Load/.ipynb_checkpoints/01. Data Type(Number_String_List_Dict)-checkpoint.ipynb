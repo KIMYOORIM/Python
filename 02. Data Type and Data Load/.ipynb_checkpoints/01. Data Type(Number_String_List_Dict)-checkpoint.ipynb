{
 "cells": [
  {
   "cell_type": "markdown",
   "metadata": {},
   "source": [
    "### 1.  Datetime"
   ]
  },
  {
   "cell_type": "code",
   "execution_count": 2,
   "metadata": {},
   "outputs": [],
   "source": [
    "import datetime"
   ]
  },
  {
   "cell_type": "code",
   "execution_count": 4,
   "metadata": {},
   "outputs": [
    {
     "data": {
      "text/plain": [
       "datetime.datetime(2019, 3, 14, 20, 20, 9, 762053)"
      ]
     },
     "execution_count": 4,
     "metadata": {},
     "output_type": "execute_result"
    }
   ],
   "source": [
    "from datetime import datetime as dt2\n",
    "dt2.now()"
   ]
  },
  {
   "cell_type": "code",
   "execution_count": 6,
   "metadata": {},
   "outputs": [
    {
     "data": {
      "text/plain": [
       "datetime.datetime(2019, 3, 14, 20, 20, 26, 650019)"
      ]
     },
     "execution_count": 6,
     "metadata": {},
     "output_type": "execute_result"
    }
   ],
   "source": [
    "currentDate = dt2.now()\n",
    "dt2.now()"
   ]
  },
  {
   "cell_type": "markdown",
   "metadata": {},
   "source": [
    "### 2. 시간, 분 정보 불러오기"
   ]
  },
  {
   "cell_type": "code",
   "execution_count": null,
   "metadata": {},
   "outputs": [],
   "source": [
    "#시간, 분 할당\n",
    "hourVar = currentDate.hour\n",
    "minutesVar = currentDate.minute\n",
    "print(hourVar)\n",
    "print(minutesVar)\n",
    "\n",
    "### 3. 결과\n",
    "import datetime\n",
    "from datetime import datetime as dt3\n",
    "dt3.now()\n",
    "currentDate = dt3.now()"
   ]
  },
  {
   "cell_type": "markdown",
   "metadata": {},
   "source": [
    "### 확인확인확인 "
   ]
  },
  {
   "cell_type": "code",
   "execution_count": 12,
   "metadata": {},
   "outputs": [
    {
     "name": "stdout",
     "output_type": "stream",
     "text": [
      "20\n"
     ]
    }
   ],
   "source": [
    "Minute=currentDate.minute\n",
    "print(Minute)"
   ]
  },
  {
   "cell_type": "markdown",
   "metadata": {},
   "source": [
    "### 3. 문자열 ## 형변환 확인"
   ]
  },
  {
   "cell_type": "code",
   "execution_count": 22,
   "metadata": {},
   "outputs": [
    {
     "name": "stdout",
     "output_type": "stream",
     "text": [
      "246\n"
     ]
    }
   ],
   "source": [
    "a = 123\n",
    "b=\"123\"\n",
    "c = int(b)\n",
    "d = a+c\n",
    "print(d)"
   ]
  },
  {
   "cell_type": "code",
   "execution_count": 23,
   "metadata": {},
   "outputs": [
    {
     "data": {
      "text/plain": [
       "int"
      ]
     },
     "execution_count": 23,
     "metadata": {},
     "output_type": "execute_result"
    }
   ],
   "source": [
    "#type확인\n",
    "type(a)"
   ]
  },
  {
   "cell_type": "markdown",
   "metadata": {},
   "source": [
    "### 4. 데이터 불러오기"
   ]
  },
  {
   "cell_type": "code",
   "execution_count": 24,
   "metadata": {},
   "outputs": [],
   "source": [
    "import pandas as pd"
   ]
  },
  {
   "cell_type": "code",
   "execution_count": 30,
   "metadata": {},
   "outputs": [],
   "source": [
    "power = pd.read_csv(\"../Python_ST_EX/dataset/kopo_region_mst.csv\") #여기서 불러와서 power라는 변수에 넣음"
   ]
  },
  {
   "cell_type": "code",
   "execution_count": 31,
   "metadata": {},
   "outputs": [
    {
     "data": {
      "text/html": [
       "<div>\n",
       "<style scoped>\n",
       "    .dataframe tbody tr th:only-of-type {\n",
       "        vertical-align: middle;\n",
       "    }\n",
       "\n",
       "    .dataframe tbody tr th {\n",
       "        vertical-align: top;\n",
       "    }\n",
       "\n",
       "    .dataframe thead th {\n",
       "        text-align: right;\n",
       "    }\n",
       "</style>\n",
       "<table border=\"1\" class=\"dataframe\">\n",
       "  <thead>\n",
       "    <tr style=\"text-align: right;\">\n",
       "      <th></th>\n",
       "      <th>REGIONID</th>\n",
       "      <th>REGIONNAME</th>\n",
       "    </tr>\n",
       "  </thead>\n",
       "  <tbody>\n",
       "    <tr>\n",
       "      <th>0</th>\n",
       "      <td>A00</td>\n",
       "      <td>AFRICA</td>\n",
       "    </tr>\n",
       "    <tr>\n",
       "      <th>1</th>\n",
       "      <td>A01</td>\n",
       "      <td>AMERICA</td>\n",
       "    </tr>\n",
       "    <tr>\n",
       "      <th>2</th>\n",
       "      <td>A02</td>\n",
       "      <td>KOREA</td>\n",
       "    </tr>\n",
       "    <tr>\n",
       "      <th>3</th>\n",
       "      <td>A03</td>\n",
       "      <td>GERMAN</td>\n",
       "    </tr>\n",
       "    <tr>\n",
       "      <th>4</th>\n",
       "      <td>A04</td>\n",
       "      <td>BRAZIL</td>\n",
       "    </tr>\n",
       "  </tbody>\n",
       "</table>\n",
       "</div>"
      ],
      "text/plain": [
       "  REGIONID REGIONNAME\n",
       "0      A00     AFRICA\n",
       "1      A01    AMERICA\n",
       "2      A02      KOREA\n",
       "3      A03     GERMAN\n",
       "4      A04     BRAZIL"
      ]
     },
     "execution_count": 31,
     "metadata": {},
     "output_type": "execute_result"
    }
   ],
   "source": [
    "power.head(5) #변수의 앞 5개만 출력"
   ]
  },
  {
   "cell_type": "code",
   "execution_count": 25,
   "metadata": {},
   "outputs": [
    {
     "data": {
      "text/plain": [
       "'C:\\\\Users\\\\SMART-04\\\\Python_Fintech\\\\02. Data Type and Data Load'"
      ]
     },
     "execution_count": 25,
     "metadata": {},
     "output_type": "execute_result"
    }
   ],
   "source": [
    "#현제저장된위치확인\n",
    "pwd"
   ]
  },
  {
   "cell_type": "markdown",
   "metadata": {},
   "source": [
    "### 5. 문자열의 합"
   ]
  },
  {
   "cell_type": "code",
   "execution_count": 32,
   "metadata": {},
   "outputs": [],
   "source": [
    "head = \"smart\""
   ]
  },
  {
   "cell_type": "code",
   "execution_count": 33,
   "metadata": {},
   "outputs": [],
   "source": [
    "tail = \"analytics\""
   ]
  },
  {
   "cell_type": "code",
   "execution_count": 35,
   "metadata": {},
   "outputs": [
    {
     "name": "stdout",
     "output_type": "stream",
     "text": [
      "smart analytics\n"
     ]
    }
   ],
   "source": [
    "fullString = head +\" \"+tail #\" \" 넣는이유 : head와 tail 값 사이에 공백 추가\n",
    "\n",
    "print(fullString)"
   ]
  },
  {
   "cell_type": "markdown",
   "metadata": {},
   "source": [
    "### 6. 문자열의 곱"
   ]
  },
  {
   "cell_type": "code",
   "execution_count": 36,
   "metadata": {},
   "outputs": [
    {
     "name": "stdout",
     "output_type": "stream",
     "text": [
      "********************문자열 연산 프로그램********************\n"
     ]
    }
   ],
   "source": [
    "print(\"*\"*20+\"문자열 연산 프로그램\"+\"*\"*20) #*을20만큼 곱해서 출력해라"
   ]
  },
  {
   "cell_type": "markdown",
   "metadata": {},
   "source": [
    "### 7.  문자열"
   ]
  },
  {
   "cell_type": "code",
   "execution_count": 38,
   "metadata": {},
   "outputs": [
    {
     "data": {
      "text/plain": [
       "[4]"
      ]
     },
     "execution_count": 38,
     "metadata": {},
     "output_type": "execute_result"
    }
   ],
   "source": [
    "yearweek = \"201801\"\n",
    "firstYear = yearweek = [4] #yearweek의 4번째 글자를 출력해라\n",
    "firstYear"
   ]
  },
  {
   "cell_type": "code",
   "execution_count": 43,
   "metadata": {},
   "outputs": [
    {
     "data": {
      "text/plain": [
       "'20180'"
      ]
     },
     "execution_count": 43,
     "metadata": {},
     "output_type": "execute_result"
    }
   ],
   "source": [
    "yearweek = \"201801\"\n",
    "yearweek[0:5] #yearweek 에서 5이전까지 출력하라. 5미포함"
   ]
  },
  {
   "cell_type": "code",
   "execution_count": 44,
   "metadata": {},
   "outputs": [
    {
     "data": {
      "text/plain": [
       "'01'"
      ]
     },
     "execution_count": 44,
     "metadata": {},
     "output_type": "execute_result"
    }
   ],
   "source": [
    "yearweek = \"201801\"\n",
    "yearweek[4:]#yearweek 뒤에서 4이후 숫자 출력(4포함)"
   ]
  },
  {
   "cell_type": "code",
   "execution_count": 45,
   "metadata": {},
   "outputs": [
    {
     "data": {
      "text/plain": [
       "'801'"
      ]
     },
     "execution_count": 45,
     "metadata": {},
     "output_type": "execute_result"
    }
   ],
   "source": [
    "###절대 수 입력 후 절대 수 뒷글자만 추출. 절대수는 대문자로 설정.\n",
    "yearweek = \"201801\"\n",
    "YEARLEN=3 #변수 \n",
    "yearweek[PURPLE:]"
   ]
  },
  {
   "cell_type": "code",
   "execution_count": 47,
   "metadata": {},
   "outputs": [
    {
     "name": "stdout",
     "output_type": "stream",
     "text": [
      "1\n"
     ]
    }
   ],
   "source": [
    "#문자열개수세기\n",
    "yearweek = \"2017Q28\"\n",
    "print(yearweek.count('Q'))"
   ]
  },
  {
   "cell_type": "code",
   "execution_count": 49,
   "metadata": {},
   "outputs": [
    {
     "name": "stdout",
     "output_type": "stream",
     "text": [
      "4\n"
     ]
    }
   ],
   "source": [
    "#문자열 위치확인 index-순번\n",
    "print(yearweek.index('Q'))\n",
    "delimeter=yearweek.index('Q')"
   ]
  },
  {
   "cell_type": "code",
   "execution_count": 51,
   "metadata": {},
   "outputs": [
    {
     "name": "stdout",
     "output_type": "stream",
     "text": [
      "['2017', '28']\n"
     ]
    }
   ],
   "source": [
    "#특정문자 기준으로 나누기\n",
    "yearweek = \"2017Q28\"\n",
    "splitVar = yearweek.split(\"Q\")\n",
    "print(splitVar)"
   ]
  },
  {
   "cell_type": "code",
   "execution_count": 52,
   "metadata": {},
   "outputs": [
    {
     "data": {
      "text/plain": [
       "list"
      ]
     },
     "execution_count": 52,
     "metadata": {},
     "output_type": "execute_result"
    }
   ],
   "source": [
    "type(splitVar)"
   ]
  },
  {
   "cell_type": "code",
   "execution_count": 54,
   "metadata": {},
   "outputs": [
    {
     "data": {
      "text/plain": [
       "'2017Q28'"
      ]
     },
     "execution_count": 54,
     "metadata": {},
     "output_type": "execute_result"
    }
   ],
   "source": [
    "#upper, lower 대문자 소문자 변경\n",
    "yearweek.lower()\n",
    "yearweek.upper()"
   ]
  },
  {
   "cell_type": "code",
   "execution_count": null,
   "metadata": {},
   "outputs": [],
   "source": [
    "#특정문자삭제\n",
    "yearweek = \"2018W01\"\n",
    "print(yearweek.index('W'))\n",
    "delimeter=yearweek.index('W')\n",
    "yearweek_new = yearweek[:delimeter]+yearweek[delimeter+1:]# W를 기준으로 (4기준앞+뒤,바로뒤가 W니까 1을 더해서 출력)\n",
    "print([yearweek_new])"
   ]
  },
  {
   "cell_type": "code",
   "execution_count": 60,
   "metadata": {
    "scrolled": true
   },
   "outputs": [
    {
     "data": {
      "text/plain": [
       "str"
      ]
     },
     "execution_count": 60,
     "metadata": {},
     "output_type": "execute_result"
    }
   ],
   "source": [
    "#형변환 출력안되는 이유\n",
    "numberValue = 123\n",
    "StrValue = str(numberValue)\n",
    "type(StrValue)"
   ]
  },
  {
   "cell_type": "markdown",
   "metadata": {},
   "source": [
    "### 8. 실습1"
   ]
  },
  {
   "cell_type": "code",
   "execution_count": null,
   "metadata": {},
   "outputs": [],
   "source": [
    "#“SEC 20180212 250”  문자열 생성 후 stock_name, date, value로 각각 의미하는 문자열을 생성하세요"
   ]
  },
  {
   "cell_type": "code",
   "execution_count": 64,
   "metadata": {},
   "outputs": [
    {
     "name": "stdout",
     "output_type": "stream",
     "text": [
      "SEC\n",
      "20180212\n",
      "250\n"
     ]
    }
   ],
   "source": [
    "LG = \"SEC 20180212 250\"\n",
    "stock_name = LG[:3]\n",
    "date = LG[4:12]\n",
    "value = LG[13:]\n",
    "print(stock_name)\n",
    "print(date)\n",
    "print(value)"
   ]
  },
  {
   "cell_type": "code",
   "execution_count": 66,
   "metadata": {},
   "outputs": [
    {
     "name": "stdout",
     "output_type": "stream",
     "text": [
      "SEC\n",
      "20180212\n",
      "250\n"
     ]
    }
   ],
   "source": [
    "LG = \"SEC 20180212 250\"\n",
    "stock_name = LG[:3]\n",
    "date = LG[4:12]\n",
    "value = LG[(-3):] # 뒤에서부터 문자열 출력\n",
    "print(stock_name)\n",
    "print(date)\n",
    "print(value)"
   ]
  },
  {
   "cell_type": "markdown",
   "metadata": {},
   "source": [
    "### 9. 실습2"
   ]
  },
  {
   "cell_type": "code",
   "execution_count": 68,
   "metadata": {},
   "outputs": [
    {
     "name": "stdout",
     "output_type": "stream",
     "text": [
      "sec 20180212 250\n"
     ]
    }
   ],
   "source": [
    "# 위 실습에서 모두 소문자로 변경\n",
    "LG = \"SEC 20180212 250\"\n",
    "SK = LG.lower()\n",
    "print(SK)"
   ]
  },
  {
   "cell_type": "code",
   "execution_count": 72,
   "metadata": {},
   "outputs": [
    {
     "name": "stdout",
     "output_type": "stream",
     "text": [
      "8\n",
      "SEC 20180212 250\n"
     ]
    }
   ],
   "source": [
    "# W 삭제하기\n",
    "LG = \"SEC 2018W0212 250\"\n",
    "print(LG.index('W'))\n",
    "KT=LG.index('W')\n",
    "KT = LG[:KT]+LG[KT+1:]\n",
    "\n",
    "print(KT)"
   ]
  },
  {
   "cell_type": "markdown",
   "metadata": {},
   "source": [
    "### 내일할일"
   ]
  },
  {
   "cell_type": "code",
   "execution_count": null,
   "metadata": {},
   "outputs": [],
   "source": [
    "# 김유림\n",
    "samsung = \"Sec 2018W28 250\"\n",
    "stock_name = samsung[:3]\n",
    "date = samsung[4:12]\n",
    "value = samsung[13:16]\n",
    "print(stock_name,date,value)\n",
    "\n",
    "samsung = str(\"Sec 2018W28 250\")\n",
    "delimeter=samsung.index('W')\n",
    "samsung_new = samsung[:delimeter]+samsung[delimeter+1:]\n",
    "print([samsung_new])\n",
    "samsung_new.upper()"
   ]
  },
  {
   "cell_type": "code",
   "execution_count": 4,
   "metadata": {
    "scrolled": true
   },
   "outputs": [
    {
     "name": "stdout",
     "output_type": "stream",
     "text": [
      "Sec \n"
     ]
    }
   ],
   "source": [
    "###인덱스로 끊을 수 있지만, LEN 로 저장해두면 훨씬 편함\n",
    "samsung= \"Sec 2018W86 250\"\n",
    "SAMSUNGLEN = 4\n",
    "stock_name=samsung[:SAMSUNGLEN]\n",
    "print(stock_name)"
   ]
  },
  {
   "cell_type": "code",
   "execution_count": 6,
   "metadata": {},
   "outputs": [
    {
     "name": "stdout",
     "output_type": "stream",
     "text": [
      "Sec \n",
      "2018W86 \n",
      "50\n"
     ]
    }
   ],
   "source": [
    "#교수님 (이렇게 하면 다음 개발자가 저 숫자가 뭔지 잘 모름) --확인해\n",
    "test= \"Sec 2018W86 250\"\n",
    "stockName = test [0:4]\n",
    "date = test [4:4+8]\n",
    "value = test [4+8+1:]\n",
    "print(stockName)\n",
    "print(date)\n",
    "print(value)"
   ]
  },
  {
   "cell_type": "code",
   "execution_count": 14,
   "metadata": {},
   "outputs": [
    {
     "name": "stdout",
     "output_type": "stream",
     "text": [
      "Sec \n",
      "2018W86 \n",
      "250\n"
     ]
    }
   ],
   "source": [
    "#그래서 이렇게 지정해주고\n",
    "test= \"Sec 2018W86 250\"\n",
    "\n",
    "stockLen = 4\n",
    "dateLen = 12\n",
    "volumeLen = 4\n",
    "stockName = test[0:stockLen]  ##이렇게 숫자를 안쓰고 할 수 있도록 연습-----확인\n",
    "yellow = test[stockLen:dateLen]\n",
    "blue = test[dateLen:]\n",
    "print(stockName)\n",
    "print(yellow)\n",
    "print(blue)"
   ]
  },
  {
   "cell_type": "code",
   "execution_count": 19,
   "metadata": {},
   "outputs": [
    {
     "name": "stdout",
     "output_type": "stream",
     "text": [
      "SEC 2018W28 250\n"
     ]
    },
    {
     "data": {
      "text/plain": [
       "'SEC 201828 250'"
      ]
     },
     "execution_count": 19,
     "metadata": {},
     "output_type": "execute_result"
    }
   ],
   "source": [
    "# 대문자\n",
    "test3 = \"Sec 2018W28 250\"\n",
    "UpperTest = test3.upper()\n",
    "print(UpperTest)\n",
    "StdTest = UpperTest.replace(\"W\",\"\") # W 빼는법\n",
    "StdTest"
   ]
  },
  {
   "cell_type": "code",
   "execution_count": null,
   "metadata": {},
   "outputs": [],
   "source": []
  },
  {
   "cell_type": "code",
   "execution_count": 25,
   "metadata": {},
   "outputs": [
    {
     "name": "stdout",
     "output_type": "stream",
     "text": [
      "SEC 2018W28 250\n"
     ]
    },
    {
     "data": {
      "text/plain": [
       "['SEC', '201828', '250']"
      ]
     },
     "execution_count": 25,
     "metadata": {},
     "output_type": "execute_result"
    }
   ],
   "source": [
    "test3 = \"Sec 2018W28 250\"\n",
    "UpperTest = test3.upper()\n",
    "print(UpperTest)\n",
    "StdTest = UpperTest.replace(\"W\",\"\") # W 빼는법\n",
    "StdTest\n",
    "splitDate = StdTest.split(\" \") # \" \" 기준으로 문장 나누기\n",
    "splitDate"
   ]
  },
  {
   "cell_type": "markdown",
   "metadata": {},
   "source": [
    "### 11. 실습3"
   ]
  },
  {
   "cell_type": "code",
   "execution_count": null,
   "metadata": {},
   "outputs": [],
   "source": [
    "# 값에서 최소 최대값을 뺀 평균을 average의 변수에 담아라"
   ]
  },
  {
   "cell_type": "code",
   "execution_count": 33,
   "metadata": {},
   "outputs": [
    {
     "name": "stdout",
     "output_type": "stream",
     "text": [
      "[120, 150, 300, 500, 1000]\n",
      "414.0\n"
     ]
    }
   ],
   "source": [
    "# 최소 최대값구하기 / 김유림\n",
    "purple = [120,150,300,500,1000,100,2000]\n",
    "purple1 = (min(purple))\n",
    "purple2 = (max(purple))\n",
    "purple.remove(purple1)\n",
    "purple.remove(purple2)\n",
    "print(purple)\n",
    "end = (sum(purple)/5)\n",
    "print(end)"
   ]
  },
  {
   "cell_type": "code",
   "execution_count": null,
   "metadata": {},
   "outputs": [],
   "source": [
    "#틀린거. 리무브 이용 인덱스 사용한 del 이 더 좋음\n",
    "purple = [120,150,300,500,1000,100,2000]\n",
    "purple1 = (min(purple))\n",
    "purple2 = (max(purple))\n",
    "del purple[purple1]\n",
    "print(purple)"
   ]
  },
  {
   "cell_type": "code",
   "execution_count": 65,
   "metadata": {},
   "outputs": [
    {
     "name": "stdout",
     "output_type": "stream",
     "text": [
      "414.0\n"
     ]
    }
   ],
   "source": [
    "#교수님 Test -> 이렇게하면 안에 값이 바뀌게되면 오류가 나게 됨.\n",
    "test = [120,150,300,500,1000,100,2000]\n",
    "test.remove(100)\n",
    "test.remove(2000)\n",
    "average = sum(test)/len(test)\n",
    "print(average)"
   ]
  },
  {
   "cell_type": "code",
   "execution_count": 67,
   "metadata": {},
   "outputs": [
    {
     "name": "stdout",
     "output_type": "stream",
     "text": [
      "[120, 150, 300, 500, 1000, 100, 2000]\n",
      "414.0\n"
     ]
    }
   ],
   "source": [
    "#그래서 이렇게 해야돼(1)\n",
    "test = [120,150,300,500,1000,100,2000]\n",
    "minVal = min(test)\n",
    "maxVal = max(test)\n",
    "print(test)\n",
    "test.remove(minVal)\n",
    "test.remove(maxVal)\n",
    "average = sum(test)/len(test)\n",
    "print(average)"
   ]
  },
  {
   "cell_type": "code",
   "execution_count": null,
   "metadata": {},
   "outputs": [],
   "source": [
    "# 인덱스 이용한 정답"
   ]
  },
  {
   "cell_type": "code",
   "execution_count": 72,
   "metadata": {},
   "outputs": [
    {
     "name": "stdout",
     "output_type": "stream",
     "text": [
      "5\n"
     ]
    },
    {
     "data": {
      "text/plain": [
       "[120, 150, 300, 500, 1000, 2000]"
      ]
     },
     "execution_count": 72,
     "metadata": {},
     "output_type": "execute_result"
    }
   ],
   "source": [
    "test = [120,150,300,500,1000,100,2000]\n",
    "minValindex = test.index(min(test))\n",
    "print(minValindex)\n",
    "\n",
    "del test[minValindex]\n",
    "test"
   ]
  },
  {
   "cell_type": "code",
   "execution_count": 74,
   "metadata": {},
   "outputs": [
    {
     "data": {
      "text/plain": [
       "[120, 150, 300, 500, 1000]"
      ]
     },
     "execution_count": 74,
     "metadata": {},
     "output_type": "execute_result"
    }
   ],
   "source": [
    "#또다른 답 --한번 더 보기\n",
    "\n",
    "testi = [120,150,300,500,1000,100,2000]\n",
    "testi.sort()\n",
    "del testi[0]\n",
    "del testi[len(testi)-1]\n",
    "testi"
   ]
  },
  {
   "cell_type": "code",
   "execution_count": 75,
   "metadata": {},
   "outputs": [
    {
     "data": {
      "text/plain": [
       "[120, 150, 300, 500, 1000]"
      ]
     },
     "execution_count": 75,
     "metadata": {},
     "output_type": "execute_result"
    }
   ],
   "source": [
    "###또다른 답 --- 한번 더 보기\n",
    "testy = [120,150,300,500,1000,100,2000]\n",
    "testy.sort()\n",
    "del testy[len(testy)-len(testy)]\n",
    "del testy[len(testy)-1]\n",
    "testy"
   ]
  },
  {
   "cell_type": "markdown",
   "metadata": {},
   "source": [
    "### 12. 딕셔너리"
   ]
  },
  {
   "cell_type": "code",
   "execution_count": null,
   "metadata": {},
   "outputs": [],
   "source": [
    "###딕셔너리(key:value, 반복 근데 이거말고도 쓸 수 있어서 중요도 낮음)\n",
    "\n",
    "d=  dict(name=\"sec\",value=\"3000000\",address=\"suwon\")\n",
    "d\n",
    "\n",
    "###예측할때 계절성 지수를 다뽑아 2017년몇주차에얼마나 팔렸다는 데이터를 키를 입력해서 value 를 찾을 수 있다\n",
    "dict2 = {\"201701\":\"0.2\",\"201702\":\"0.5\",\"201703\":\"0.7\"}\n",
    "dict2\n",
    "\n",
    "dict2[\"201702\"]\n",
    "\n",
    "type(dict2)\n"
   ]
  },
  {
   "cell_type": "code",
   "execution_count": null,
   "metadata": {},
   "outputs": [],
   "source": []
  },
  {
   "cell_type": "markdown",
   "metadata": {},
   "source": [
    "### Quiz 1. 실행 시간을 구하라 "
   ]
  },
  {
   "cell_type": "code",
   "execution_count": 60,
   "metadata": {},
   "outputs": [
    {
     "name": "stdout",
     "output_type": "stream",
     "text": [
      "8936.090755278527\n",
      "Time:  0.0967154879321015\n"
     ]
    }
   ],
   "source": [
    "import timeit\n",
    "start = timeit.default_timer()\n",
    "import pandas as pd\n",
    "qtList = pd.read_csv\\\n",
    "(\"../Python_ST_EX/dataset/kopo_channel_seasonality_new.csv\")[\"QTY\"].tolist()\n",
    "qt1 = (min(qtList))\n",
    "qt2 = (max(qtList))\n",
    "qtList.remove(qt1)\n",
    "qtList.remove(qt2)\n",
    "\n",
    "end = sum(qtList)/len(qtList)\n",
    "print(end)\n",
    "stop = timeit.default_timer()\n",
    "print('Time: ', stop - start)"
   ]
  },
  {
   "cell_type": "markdown",
   "metadata": {},
   "source": [
    "### Quiz 2. 리스트에서 최소 최대값을 뺀 평균을 구하라"
   ]
  },
  {
   "cell_type": "code",
   "execution_count": 59,
   "metadata": {},
   "outputs": [
    {
     "name": "stdout",
     "output_type": "stream",
     "text": [
      "8936.090755278527\n"
     ]
    }
   ],
   "source": [
    "import pandas as pd\n",
    "qtList = pd.read_csv\\\n",
    "(\"../Python_ST_EX/dataset/kopo_channel_seasonality_new.csv\")[\"QTY\"].tolist()\n",
    "qt1 = (min(qtList))\n",
    "qt2 = (max(qtList))\n",
    "qtList.remove(qt1)\n",
    "qtList.remove(qt2)\n",
    "\n",
    "end = sum(qtList)/len(qtList)\n",
    "print(end)"
   ]
  },
  {
   "cell_type": "code",
   "execution_count": null,
   "metadata": {},
   "outputs": [],
   "source": []
  },
  {
   "cell_type": "code",
   "execution_count": null,
   "metadata": {},
   "outputs": [],
   "source": []
  },
  {
   "cell_type": "code",
   "execution_count": null,
   "metadata": {},
   "outputs": [],
   "source": []
  },
  {
   "cell_type": "code",
   "execution_count": null,
   "metadata": {},
   "outputs": [],
   "source": []
  },
  {
   "cell_type": "code",
   "execution_count": null,
   "metadata": {},
   "outputs": [],
   "source": []
  }
 ],
 "metadata": {
  "kernelspec": {
   "display_name": "Python 3",
   "language": "python",
   "name": "python3"
  },
  "language_info": {
   "codemirror_mode": {
    "name": "ipython",
    "version": 3
   },
   "file_extension": ".py",
   "mimetype": "text/x-python",
   "name": "python",
   "nbconvert_exporter": "python",
   "pygments_lexer": "ipython3",
   "version": "3.6.4"
  }
 },
 "nbformat": 4,
 "nbformat_minor": 2
}
