{
 "cells": [
  {
   "cell_type": "markdown",
   "metadata": {},
   "source": [
    "### round 함수, 함수 만들기"
   ]
  },
  {
   "cell_type": "code",
   "execution_count": 5,
   "metadata": {},
   "outputs": [
    {
     "data": {
      "text/plain": [
       "1.8867924528301887"
      ]
     },
     "execution_count": 5,
     "metadata": {},
     "output_type": "execute_result"
    }
   ],
   "source": [
    "a = 10\n",
    "b = 5.3\n",
    "display2Digt = a / b\n",
    "display2Digt"
   ]
  },
  {
   "cell_type": "code",
   "execution_count": 6,
   "metadata": {
    "scrolled": true
   },
   "outputs": [
    {
     "data": {
      "text/plain": [
       "1.89"
      ]
     },
     "execution_count": 6,
     "metadata": {},
     "output_type": "execute_result"
    }
   ],
   "source": [
    "step1 = display2Digt * 100\n",
    "step2 = round(step1)\n",
    "step3 = step2/100\n",
    "step3"
   ]
  },
  {
   "cell_type": "code",
   "execution_count": 16,
   "metadata": {},
   "outputs": [],
   "source": [
    "def banollim (digit):\n",
    "    step1 = digit * 100\n",
    "    step2 = round(step1)\n",
    "    step3 = step2 /100\n",
    "    return step3"
   ]
  },
  {
   "cell_type": "code",
   "execution_count": 17,
   "metadata": {},
   "outputs": [
    {
     "data": {
      "text/plain": [
       "0.8241758241758241"
      ]
     },
     "execution_count": 17,
     "metadata": {},
     "output_type": "execute_result"
    }
   ],
   "source": [
    "a = 3\n",
    "b = 3.64\n",
    "c = a/b\n",
    "c"
   ]
  },
  {
   "cell_type": "code",
   "execution_count": 18,
   "metadata": {},
   "outputs": [
    {
     "data": {
      "text/plain": [
       "0.82"
      ]
     },
     "execution_count": 18,
     "metadata": {},
     "output_type": "execute_result"
    }
   ],
   "source": [
    "banollim(c)"
   ]
  },
  {
   "cell_type": "code",
   "execution_count": null,
   "metadata": {},
   "outputs": [],
   "source": [
    "##원하는 소수점 까지 받는 함수만들기"
   ]
  },
  {
   "cell_type": "code",
   "execution_count": null,
   "metadata": {},
   "outputs": [],
   "source": [
    "def mamRound (gap, digit):\n",
    "    step1 = gap * 10**digit\n",
    "    step2 = round(step1)\n",
    "    step3 = step2 / 10**digit\n",
    "    return step3"
   ]
  },
  {
   "cell_type": "code",
   "execution_count": null,
   "metadata": {},
   "outputs": [],
   "source": []
  },
  {
   "cell_type": "code",
   "execution_count": null,
   "metadata": {},
   "outputs": [],
   "source": [
    "#리스트를 인수로 받아서 최대, 최소값을 뺀 평균을 구하는 함수를 생성하세요."
   ]
  },
  {
   "cell_type": "code",
   "execution_count": 23,
   "metadata": {},
   "outputs": [],
   "source": [
    "def averageList (digit):\n",
    "    step1 = min(digit)\n",
    "    step2 = max(digit)\n",
    "    step3 = digit.remove(step1)\n",
    "    step4 = digit.remove(step2)\n",
    "    step5 = sum(digit) / len(digit)\n",
    "    return step5   "
   ]
  },
  {
   "cell_type": "code",
   "execution_count": 24,
   "metadata": {},
   "outputs": [],
   "source": [
    "list = [ 1,2,3,4,75,7,6]"
   ]
  },
  {
   "cell_type": "code",
   "execution_count": 25,
   "metadata": {},
   "outputs": [
    {
     "data": {
      "text/plain": [
       "4.4"
      ]
     },
     "execution_count": 25,
     "metadata": {},
     "output_type": "execute_result"
    }
   ],
   "source": [
    "averageList(list)"
   ]
  },
  {
   "cell_type": "code",
   "execution_count": null,
   "metadata": {},
   "outputs": [],
   "source": [
    "def listAverage (listValue):\n",
    "    #리스트를 정렬해야지(del쓸때만 해당)\n",
    "    #step1 = listValue.sort()\n",
    "    #리스트 최솟값최대값구하기\n",
    "    step2 = min(listValue)\n",
    "    #리스트에서 최소값대값빼기\n",
    "    step3 = max(listValue)\n",
    "    #평균구하기\n",
    "    step4 = listValue.remove(step2)\n",
    "    step5 = listValue.remove(step3)\n",
    "    #평균출력하기\n",
    "    step6 = sum(listValue)/len(listValue)\n",
    "    return step6"
   ]
  },
  {
   "cell_type": "code",
   "execution_count": null,
   "metadata": {},
   "outputs": [],
   "source": [
    "list = [1,2,3,4,5,6]"
   ]
  },
  {
   "cell_type": "code",
   "execution_count": null,
   "metadata": {},
   "outputs": [],
   "source": [
    "listAverage(list)"
   ]
  },
  {
   "cell_type": "code",
   "execution_count": null,
   "metadata": {},
   "outputs": [],
   "source": []
  },
  {
   "cell_type": "code",
   "execution_count": 35,
   "metadata": {},
   "outputs": [],
   "source": []
  },
  {
   "cell_type": "markdown",
   "metadata": {},
   "source": [
    "### (ppt quiz)ListA 에서 국가 코드만 제외하고 출력하시오. (방법 1)"
   ]
  },
  {
   "cell_type": "code",
   "execution_count": 6,
   "metadata": {},
   "outputs": [],
   "source": [
    "ListA = ['A01','한국','A02','미국','A03','프랑스','A04','인도']"
   ]
  },
  {
   "cell_type": "code",
   "execution_count": 7,
   "metadata": {},
   "outputs": [
    {
     "data": {
      "text/plain": [
       "'A'"
      ]
     },
     "execution_count": 7,
     "metadata": {},
     "output_type": "execute_result"
    }
   ],
   "source": [
    "wordFix = 'A'\n",
    "wordFix"
   ]
  },
  {
   "cell_type": "code",
   "execution_count": 8,
   "metadata": {},
   "outputs": [],
   "source": [
    "i = 0\n",
    "j = 0"
   ]
  },
  {
   "cell_type": "code",
   "execution_count": 9,
   "metadata": {},
   "outputs": [
    {
     "data": {
      "text/plain": [
       "['한국', '미국', '프랑스', '인도']"
      ]
     },
     "execution_count": 9,
     "metadata": {},
     "output_type": "execute_result"
    }
   ],
   "source": [
    "while(i < len(ListA)):\n",
    "    wordFixCnt = ListA[j].count(wordFix)\n",
    "    if(wordFixCnt > 0):\n",
    "        ListA.remove(ListA[j])\n",
    "        j = 0 # 지우고 나면 다시 두번째꺼가 첫번째로 오니까 다시 0으로 초기화 시켜줘야 해\n",
    "        i = 0\n",
    "    else:\n",
    "        j = j + 1\n",
    "    i = i + 1 #여기는 while문에 1씩 추가해서 다음 수로 검색 할 수 있게.\n",
    "ListA"
   ]
  },
  {
   "cell_type": "markdown",
   "metadata": {},
   "source": [
    "### (ppt quiz)ListA 에서 국가 코드만 제외하고 출력하시오. (방법 2)"
   ]
  },
  {
   "cell_type": "code",
   "execution_count": null,
   "metadata": {},
   "outputs": [],
   "source": [
    "ListA = ['A01','한국','A02','미국','A03','프랑스','A04','인도']\n",
    "\n",
    "wordFix = 'A'\n",
    "wordFix\n",
    "\n",
    "i = 0\n",
    "j = 0"
   ]
  },
  {
   "cell_type": "code",
   "execution_count": null,
   "metadata": {},
   "outputs": [],
   "source": [
    "while(i < len(ListA)):\n",
    "    wordFixCnt = ListA[i].count(wordFix)\n",
    "    if(wordFixCnt > 0):\n",
    "        ListA.remove(ListA[i])\n",
    "    else:\n",
    "        i = i + 1\n",
    "     #여기는 while문에 1씩 추가해서 다음 수로 검색 할 수 있게.\n",
    "ListA"
   ]
  },
  {
   "cell_type": "markdown",
   "metadata": {},
   "source": [
    "### (ppt quiz)ListA 에서 국가 코드만 제외하고 출력하시오. (방법 3)"
   ]
  },
  {
   "cell_type": "code",
   "execution_count": null,
   "metadata": {},
   "outputs": [],
   "source": [
    "List = ['A01','한국','A02','미국','A03','프랑스']"
   ]
  },
  {
   "cell_type": "code",
   "execution_count": 10,
   "metadata": {
    "scrolled": false
   },
   "outputs": [
    {
     "ename": "NameError",
     "evalue": "name 'List' is not defined",
     "output_type": "error",
     "traceback": [
      "\u001b[1;31m---------------------------------------------------------------------------\u001b[0m",
      "\u001b[1;31mNameError\u001b[0m                                 Traceback (most recent call last)",
      "\u001b[1;32m<ipython-input-10-feacc01ce31a>\u001b[0m in \u001b[0;36m<module>\u001b[1;34m()\u001b[0m\n\u001b[0;32m      1\u001b[0m \u001b[1;31m# 빈 배열을 만들어서 A가 포함된 것만 저장해서 출력\u001b[0m\u001b[1;33m\u001b[0m\u001b[1;33m\u001b[0m\u001b[0m\n\u001b[0;32m      2\u001b[0m \u001b[0mList2\u001b[0m \u001b[1;33m=\u001b[0m \u001b[1;33m[\u001b[0m\u001b[1;33m]\u001b[0m\u001b[1;33m\u001b[0m\u001b[0m\n\u001b[1;32m----> 3\u001b[1;33m \u001b[1;32mfor\u001b[0m \u001b[0mi\u001b[0m \u001b[1;32min\u001b[0m \u001b[0mrange\u001b[0m\u001b[1;33m(\u001b[0m\u001b[1;36m0\u001b[0m\u001b[1;33m,\u001b[0m \u001b[0mlen\u001b[0m\u001b[1;33m(\u001b[0m\u001b[0mList\u001b[0m\u001b[1;33m)\u001b[0m\u001b[1;33m)\u001b[0m\u001b[1;33m:\u001b[0m\u001b[1;33m\u001b[0m\u001b[0m\n\u001b[0m\u001b[0;32m      4\u001b[0m     \u001b[0mcountList\u001b[0m \u001b[1;33m=\u001b[0m \u001b[0mList\u001b[0m\u001b[1;33m[\u001b[0m\u001b[0mi\u001b[0m\u001b[1;33m]\u001b[0m\u001b[1;33m.\u001b[0m\u001b[0mcount\u001b[0m\u001b[1;33m(\u001b[0m\u001b[1;34m\"A\"\u001b[0m\u001b[1;33m)\u001b[0m\u001b[1;33m\u001b[0m\u001b[0m\n\u001b[0;32m      5\u001b[0m     \u001b[1;32mif\u001b[0m\u001b[1;33m(\u001b[0m\u001b[0mcountList\u001b[0m \u001b[1;33m>\u001b[0m \u001b[1;36m0\u001b[0m\u001b[1;33m)\u001b[0m\u001b[1;33m:\u001b[0m\u001b[1;33m\u001b[0m\u001b[0m\n",
      "\u001b[1;31mNameError\u001b[0m: name 'List' is not defined"
     ]
    }
   ],
   "source": [
    "# 빈 배열을 만들어서 A가 포함된 것만 저장해서 출력\n",
    "List2 = []  \n",
    "for i in range(0, len(List)):\n",
    "    countList = List[i].count(\"A\")\n",
    "    if(countList > 0):\n",
    "        List2 = List2 + [List[i]]\n",
    "print(List2)"
   ]
  },
  {
   "cell_type": "markdown",
   "metadata": {},
   "source": [
    "### (ppt_14) SCORE 변수를 80으로 선언 후 90점이상 A, 80-90점 B, 이외 C점수로 GRADE변수에 할당하는 프로그램을 구현하세요."
   ]
  },
  {
   "cell_type": "code",
   "execution_count": 13,
   "metadata": {},
   "outputs": [
    {
     "name": "stdout",
     "output_type": "stream",
     "text": [
      "B\n"
     ]
    }
   ],
   "source": [
    "SCORE = 80\n",
    "if(SCORE > 90):\n",
    "     GRADE = \"A\"\n",
    "elif((SCORE >= 80) & (SCORE <= 90)):\n",
    "     GRADE = \"B\"\n",
    "else:\n",
    "     GRADE = \"C\"\n",
    "print(GRADE)    "
   ]
  },
  {
   "cell_type": "markdown",
   "metadata": {},
   "source": [
    "### (ppt 18) 사칙연산 할수있는 함수 생성 후 사용자 변수 2개 받아 print문을 활용해 더하기 예제를 출력"
   ]
  },
  {
   "cell_type": "code",
   "execution_count": 48,
   "metadata": {},
   "outputs": [],
   "source": [
    "def calCul (value): #value 가 0,1,2,3일 때만 사친연산 수행\n",
    "    inputX= int(input())\n",
    "    inputY= int(input())\n",
    "    if (value == 0):\n",
    "        value = inputX * inputY\n",
    "    elif (value ==1 ):\n",
    "        value = inputX + inputY\n",
    "    elif (value == 2):\n",
    "        value = inputX / inputY\n",
    "    elif(value == 3):\n",
    "        value = inputX - inputY\n",
    "    return value "
   ]
  },
  {
   "cell_type": "code",
   "execution_count": null,
   "metadata": {},
   "outputs": [],
   "source": []
  },
  {
   "cell_type": "code",
   "execution_count": null,
   "metadata": {},
   "outputs": [],
   "source": []
  },
  {
   "cell_type": "code",
   "execution_count": null,
   "metadata": {},
   "outputs": [],
   "source": []
  },
  {
   "cell_type": "code",
   "execution_count": null,
   "metadata": {},
   "outputs": [],
   "source": []
  }
 ],
 "metadata": {
  "kernelspec": {
   "display_name": "Python 3",
   "language": "python",
   "name": "python3"
  },
  "language_info": {
   "codemirror_mode": {
    "name": "ipython",
    "version": 3
   },
   "file_extension": ".py",
   "mimetype": "text/x-python",
   "name": "python",
   "nbconvert_exporter": "python",
   "pygments_lexer": "ipython3",
   "version": "3.6.4"
  }
 },
 "nbformat": 4,
 "nbformat_minor": 2
}
