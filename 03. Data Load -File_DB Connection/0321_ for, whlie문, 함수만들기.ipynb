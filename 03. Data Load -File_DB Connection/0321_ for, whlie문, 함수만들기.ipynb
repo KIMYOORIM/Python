{
 "cells": [
  {
   "cell_type": "markdown",
   "metadata": {},
   "source": [
    "### 01. for문"
   ]
  },
  {
   "cell_type": "code",
   "execution_count": 1,
   "metadata": {},
   "outputs": [],
   "source": [
    "tvList = ['UN40EN001','UN40EN002','UN40EN003','UN40EN004']"
   ]
  },
  {
   "cell_type": "code",
   "execution_count": 2,
   "metadata": {},
   "outputs": [],
   "source": [
    "preFix = \"LED_TV\""
   ]
  },
  {
   "cell_type": "code",
   "execution_count": 3,
   "metadata": {
    "scrolled": true
   },
   "outputs": [],
   "source": [
    "for i in range(0,4):\n",
    "    tvList[i] = preFix + tvList[i]"
   ]
  },
  {
   "cell_type": "code",
   "execution_count": 4,
   "metadata": {},
   "outputs": [
    {
     "data": {
      "text/plain": [
       "['LED_TVUN40EN001', 'LED_TVUN40EN002', 'LED_TVUN40EN003', 'LED_TVUN40EN004']"
      ]
     },
     "execution_count": 4,
     "metadata": {},
     "output_type": "execute_result"
    }
   ],
   "source": [
    "tvList"
   ]
  },
  {
   "cell_type": "markdown",
   "metadata": {},
   "source": [
    "### 02. while문"
   ]
  },
  {
   "cell_type": "code",
   "execution_count": 5,
   "metadata": {},
   "outputs": [],
   "source": [
    "tvList = ['UN40EN001','UN40EN002','UN40EN003','UN40EN004']"
   ]
  },
  {
   "cell_type": "code",
   "execution_count": 6,
   "metadata": {},
   "outputs": [],
   "source": [
    "preFix = \"LED_TV\""
   ]
  },
  {
   "cell_type": "code",
   "execution_count": 7,
   "metadata": {},
   "outputs": [],
   "source": [
    "#i가 4보다 작을때 까지 반복"
   ]
  },
  {
   "cell_type": "code",
   "execution_count": 8,
   "metadata": {},
   "outputs": [],
   "source": [
    "a=0"
   ]
  },
  {
   "cell_type": "code",
   "execution_count": 9,
   "metadata": {},
   "outputs": [],
   "source": [
    "while(a<4): \n",
    "    tvList[a] = preFix + tvList[a]\n",
    "    a=a+1"
   ]
  },
  {
   "cell_type": "code",
   "execution_count": 10,
   "metadata": {},
   "outputs": [
    {
     "data": {
      "text/plain": [
       "['LED_TVUN40EN001', 'LED_TVUN40EN002', 'LED_TVUN40EN003', 'LED_TVUN40EN004']"
      ]
     },
     "execution_count": 10,
     "metadata": {},
     "output_type": "execute_result"
    }
   ],
   "source": [
    "tvList"
   ]
  },
  {
   "cell_type": "code",
   "execution_count": 11,
   "metadata": {},
   "outputs": [
    {
     "ename": "NameError",
     "evalue": "name 'Len' is not defined",
     "output_type": "error",
     "traceback": [
      "\u001b[1;31m---------------------------------------------------------------------------\u001b[0m",
      "\u001b[1;31mNameError\u001b[0m                                 Traceback (most recent call last)",
      "\u001b[1;32m<ipython-input-11-77965dfc8201>\u001b[0m in \u001b[0;36m<module>\u001b[1;34m()\u001b[0m\n\u001b[0;32m      3\u001b[0m \u001b[0mi\u001b[0m \u001b[1;33m=\u001b[0m \u001b[1;36m0\u001b[0m\u001b[1;33m\u001b[0m\u001b[0m\n\u001b[0;32m      4\u001b[0m \u001b[1;32mwhile\u001b[0m\u001b[1;33m(\u001b[0m\u001b[0mi\u001b[0m \u001b[1;33m<\u001b[0m \u001b[0mLentvList\u001b[0m\u001b[1;33m)\u001b[0m\u001b[1;33m:\u001b[0m\u001b[1;33m\u001b[0m\u001b[0m\n\u001b[1;32m----> 5\u001b[1;33m       \u001b[0mtvList\u001b[0m\u001b[1;33m[\u001b[0m\u001b[0mLen\u001b[0m\u001b[1;33m]\u001b[0m \u001b[1;33m=\u001b[0m \u001b[0mpreFix\u001b[0m \u001b[1;33m+\u001b[0m \u001b[0mtvList\u001b[0m\u001b[1;33m[\u001b[0m\u001b[0mi\u001b[0m\u001b[1;33m]\u001b[0m\u001b[1;33m\u001b[0m\u001b[0m\n\u001b[0m\u001b[0;32m      6\u001b[0m       \u001b[0mi\u001b[0m \u001b[1;33m=\u001b[0m \u001b[0mi\u001b[0m \u001b[1;33m+\u001b[0m \u001b[1;36m1\u001b[0m\u001b[1;33m\u001b[0m\u001b[0m\n",
      "\u001b[1;31mNameError\u001b[0m: name 'Len' is not defined"
     ]
    }
   ],
   "source": [
    "# tvList의 길이로 구하기\n",
    "LentvList = len(tvList)\n",
    "i = 0\n",
    "while(i < LentvList):\n",
    "      tvList[Len] = preFix + tvList[i]\n",
    "      i = i + 1"
   ]
  },
  {
   "cell_type": "code",
   "execution_count": null,
   "metadata": {},
   "outputs": [],
   "source": [
    "print(tvList)"
   ]
  },
  {
   "cell_type": "markdown",
   "metadata": {},
   "source": [
    "### 03. 구구단"
   ]
  },
  {
   "cell_type": "code",
   "execution_count": null,
   "metadata": {},
   "outputs": [],
   "source": [
    "a= 1\n",
    "b = 2\n",
    "c = a*b\n",
    "print( \"{0} * {1} = {2}\".format(b,a,c))\n",
    "#0이 첫번째 숫자를 가져오고 1이 두번재를 가져옴 b"
   ]
  },
  {
   "cell_type": "code",
   "execution_count": null,
   "metadata": {},
   "outputs": [],
   "source": [
    "#이중포문"
   ]
  },
  {
   "cell_type": "code",
   "execution_count": null,
   "metadata": {},
   "outputs": [],
   "source": [
    "for n in range(1,3):\n",
    "    print(\"{0}단 시작\".format(n))\n",
    "    for i in range(1,10):\n",
    "        print( \"{0} * {1} = {2}\".format(n,i,n*i))"
   ]
  },
  {
   "cell_type": "code",
   "execution_count": null,
   "metadata": {},
   "outputs": [],
   "source": [
    "n=1"
   ]
  },
  {
   "cell_type": "code",
   "execution_count": null,
   "metadata": {},
   "outputs": [],
   "source": [
    "print(\"{0}단 시작\".format(n,i,n*i))"
   ]
  },
  {
   "cell_type": "code",
   "execution_count": null,
   "metadata": {},
   "outputs": [],
   "source": [
    "i=1"
   ]
  },
  {
   "cell_type": "code",
   "execution_count": null,
   "metadata": {},
   "outputs": [],
   "source": [
    " print( \"{0} * {1} = {2}\".format(n,i,n*i))"
   ]
  },
  {
   "cell_type": "code",
   "execution_count": null,
   "metadata": {},
   "outputs": [],
   "source": [
    "for n in[1,2]:\n",
    "    print(\"{0}단 시작\".format(n))\n",
    "    for i in [1,2,3,4,5,6,7,8,9]:\n",
    "        print( \"{0} * {1} = {2}\".format(n,i,n*i))"
   ]
  },
  {
   "cell_type": "code",
   "execution_count": null,
   "metadata": {},
   "outputs": [],
   "source": []
  },
  {
   "cell_type": "markdown",
   "metadata": {},
   "source": [
    "### break, continue"
   ]
  },
  {
   "cell_type": "code",
   "execution_count": null,
   "metadata": {},
   "outputs": [],
   "source": []
  },
  {
   "cell_type": "markdown",
   "metadata": {},
   "source": [
    "### 04. 퀴즈"
   ]
  },
  {
   "cell_type": "code",
   "execution_count": null,
   "metadata": {},
   "outputs": [],
   "source": [
    "tvList1 = ['UN40EN001','LEDTV_UN40EN002','LEDTV_LEDTV_UN40EN003','UN40EN004']"
   ]
  },
  {
   "cell_type": "code",
   "execution_count": null,
   "metadata": {},
   "outputs": [],
   "source": [
    "preFix = \"LEDTV_\""
   ]
  },
  {
   "cell_type": "code",
   "execution_count": null,
   "metadata": {},
   "outputs": [],
   "source": [
    "## 만약 count == 0 prefix를 앞에 붙인다\n",
    "for i in range(0,4):\n",
    "    preFixCount = tvList1[i].count(preFix)\n",
    "    if (preFixCount == 0):\n",
    "        tvList1[i] = preFix + tvList1[i]\n",
    "     ## 만약 count == 1 prefix 현상태 유지\n",
    "    elif(preFixCount == 1):\n",
    "        tvList1[i] = tvList1[i]\n",
    "       ## 만약 count >1 prefix  prefix를 삭제 후 붙인다.\n",
    "    else:\n",
    "        tvList1[i] = tvList1[i].replace(preFix,\"\")\n",
    "        tvList1[i] = preFix + tvList1[i]\n",
    "        ##preFixCount[i] = tvList[i] ##여기 확인"
   ]
  },
  {
   "cell_type": "code",
   "execution_count": null,
   "metadata": {},
   "outputs": [],
   "source": [
    "tvList1"
   ]
  },
  {
   "cell_type": "code",
   "execution_count": null,
   "metadata": {},
   "outputs": [],
   "source": []
  },
  {
   "cell_type": "code",
   "execution_count": null,
   "metadata": {},
   "outputs": [],
   "source": [
    "## while 문으로 하기 확인"
   ]
  },
  {
   "cell_type": "code",
   "execution_count": 3,
   "metadata": {},
   "outputs": [],
   "source": [
    "tvList2 = ['UN40EN001','LEDTV_UN40EN002','LEDTV_LEDTV_UN40EN003','UN40EN004']"
   ]
  },
  {
   "cell_type": "code",
   "execution_count": 4,
   "metadata": {},
   "outputs": [],
   "source": [
    "preFix = \"LEDTV_\""
   ]
  },
  {
   "cell_type": "code",
   "execution_count": null,
   "metadata": {},
   "outputs": [],
   "source": [
    "i=0\n",
    "tvList2Len = len(tvList2)\n",
    "while(i < tvList2Len):\n",
    "    preFixCnt = tvList2[i].count(preFix)\n",
    "    if(preFixCnt == 0):\n",
    "        tvList2[i] = preFix + tvList2[i]\n",
    "    elif(preFixCnt == 1):\n",
    "        tvList2[i] = tvList2[i]\n",
    "    else:\n",
    "        tvList2[i] = tvList2[i].replace(preFix*preFixCnt, preFix)\n",
    "    i = i + 1 #얘는 조건이기 때문에 while 안에 넣어야함. 파이썬 인덴트가 거어어업나 중요함  "
   ]
  },
  {
   "cell_type": "code",
   "execution_count": 6,
   "metadata": {},
   "outputs": [
    {
     "name": "stdout",
     "output_type": "stream",
     "text": [
      "['LEDTV_UN40EN001', 'LEDTV_UN40EN002', 'LEDTV_UN40EN003', 'LEDTV_UN40EN004']\n"
     ]
    }
   ],
   "source": [
    "print(tvList2)"
   ]
  },
  {
   "cell_type": "markdown",
   "metadata": {},
   "source": [
    "### 함수(round)"
   ]
  },
  {
   "cell_type": "markdown",
   "metadata": {},
   "source": [
    "### - round함수 예시"
   ]
  },
  {
   "cell_type": "code",
   "execution_count": null,
   "metadata": {},
   "outputs": [],
   "source": [
    "a= 10\n",
    "b = 5.3\n",
    "display2Digit = a/b\n",
    "display2Digit"
   ]
  },
  {
   "cell_type": "code",
   "execution_count": null,
   "metadata": {},
   "outputs": [],
   "source": [
    "step1 = display2Digit * 100\n",
    "step1"
   ]
  },
  {
   "cell_type": "code",
   "execution_count": null,
   "metadata": {},
   "outputs": [],
   "source": [
    "step2 = round(step1)\n",
    "step2"
   ]
  },
  {
   "cell_type": "code",
   "execution_count": null,
   "metadata": {},
   "outputs": [],
   "source": [
    "step3 = step2/100\n",
    "step3"
   ]
  },
  {
   "cell_type": "markdown",
   "metadata": {},
   "source": [
    "### - round 랑 같은 함수 만들기.(소수점 두자리까지만 출력)"
   ]
  },
  {
   "cell_type": "code",
   "execution_count": null,
   "metadata": {},
   "outputs": [],
   "source": [
    "# round(숫자) 반올림 함수 "
   ]
  },
  {
   "cell_type": "code",
   "execution_count": null,
   "metadata": {},
   "outputs": [],
   "source": [
    "#def 는 내가만들 함수 이름 지정해주는거, 함수이름뒤에 ()안에도 임시값이름 아무거나. \n",
    "def round2Digit(display2Digit)\n",
    "    step1 = display2Digit * 100 # 100을 곱하는 이유는 소수점 두자리까지만 구할거니까 2자리를 곱해줘서\n",
    "    step1\n",
    "\n",
    "    step2= round(step1) #여기서 round함수로 나머지 소수점은 반올림으로 다없애버림.\n",
    "    step2\n",
    "\n",
    "    step3 = step2 / 100 #그다음 다시 100으로 나눠서 두자리 소수점을 남겨주는거지!!!\n",
    "    return step3"
   ]
  },
  {
   "cell_type": "code",
   "execution_count": null,
   "metadata": {},
   "outputs": [],
   "source": []
  },
  {
   "cell_type": "code",
   "execution_count": null,
   "metadata": {},
   "outputs": [],
   "source": []
  },
  {
   "cell_type": "code",
   "execution_count": null,
   "metadata": {},
   "outputs": [],
   "source": [
    "#round 함수 사용\n",
    "value = 1.222553\n",
    "digit = 3"
   ]
  },
  {
   "cell_type": "code",
   "execution_count": null,
   "metadata": {},
   "outputs": [],
   "source": [
    "step1 = value * 10**digit\n",
    "step2 = round(step1)\n",
    "step3= step2/10**digit \n",
    "step3#여기까지 확인"
   ]
  },
  {
   "cell_type": "code",
   "execution_count": null,
   "metadata": {},
   "outputs": [],
   "source": [
    "#원하는 소수점 자리를 받을 수 있게 만듬 - 함수만들기"
   ]
  },
  {
   "cell_type": "code",
   "execution_count": null,
   "metadata": {},
   "outputs": [],
   "source": [
    "def roundFuntion(value, digit):\n",
    "    step1 = value * (10**digit)\n",
    "    step2 = round(step1)\n",
    "    step3= step2/(10**digit)\n",
    "    return step3"
   ]
  },
  {
   "cell_type": "code",
   "execution_count": null,
   "metadata": {},
   "outputs": [],
   "source": [
    "roundFuntion(1.235454455, 4) #소수점4자리까지 표시."
   ]
  },
  {
   "cell_type": "code",
   "execution_count": null,
   "metadata": {},
   "outputs": [],
   "source": []
  },
  {
   "cell_type": "markdown",
   "metadata": {},
   "source": [
    "# ppt17"
   ]
  },
  {
   "cell_type": "code",
   "execution_count": null,
   "metadata": {},
   "outputs": [],
   "source": [
    "def roundFuntion(value, digit):#digit는 사용자가 입력할 숫자 2면 10의2승 3이면3승\n",
    "    step1 = value * (10**digit)#**은 제곱승 의미.\n",
    "    step2 = round(step1)\n",
    "    step3= step2/(10**digit)\n",
    "    return step3"
   ]
  },
  {
   "cell_type": "code",
   "execution_count": null,
   "metadata": {},
   "outputs": [],
   "source": [
    "roundFuntion(1.235454455, 8)"
   ]
  },
  {
   "cell_type": "code",
   "execution_count": null,
   "metadata": {},
   "outputs": [],
   "source": [
    "tvList1 = ['UN40EN001','LEDTV_UN40EN002','LEDTV_LEDTV_UN40EN003','UN40EN004']"
   ]
  },
  {
   "cell_type": "code",
   "execution_count": null,
   "metadata": {},
   "outputs": [],
   "source": []
  },
  {
   "cell_type": "markdown",
   "metadata": {},
   "source": [
    "### 함수 만들기2"
   ]
  },
  {
   "cell_type": "code",
   "execution_count": null,
   "metadata": {},
   "outputs": [],
   "source": [
    "#리스트를 인수로 받아서 최대, 최소값을 뺀 평균을 구하는 함수를 생성하세요."
   ]
  },
  {
   "cell_type": "code",
   "execution_count": null,
   "metadata": {},
   "outputs": [],
   "source": [
    "def listAverage (listValue):\n",
    "    #리스트를 정렬해야지(del쓸때만 해당)\n",
    "    #step1 = listValue.sort()\n",
    "    #리스트 최솟값최대값구하기\n",
    "    step2 = min(listValue)\n",
    "    #리스트에서 최소값대값빼기\n",
    "    step3 = max(listValue)\n",
    "    #평균구하기\n",
    "    step4 = listValue.remove(step2)\n",
    "    step5 = listValue.remove(step3)\n",
    "    #평균출력하기\n",
    "    step6 = sum(listValue)/len(listValue)\n",
    "    return step6"
   ]
  },
  {
   "cell_type": "code",
   "execution_count": null,
   "metadata": {},
   "outputs": [],
   "source": [
    "list = [1,2,3,4,5,6]"
   ]
  },
  {
   "cell_type": "code",
   "execution_count": null,
   "metadata": {},
   "outputs": [],
   "source": [
    "listAverage(list)"
   ]
  },
  {
   "cell_type": "code",
   "execution_count": null,
   "metadata": {},
   "outputs": [],
   "source": []
  },
  {
   "cell_type": "markdown",
   "metadata": {},
   "source": [
    "### 연습. "
   ]
  },
  {
   "cell_type": "code",
   "execution_count": null,
   "metadata": {},
   "outputs": [],
   "source": [
    "testList = [1,1,22,5,8,22,22,22,6,6] #리스트 만듬"
   ]
  },
  {
   "cell_type": "code",
   "execution_count": null,
   "metadata": {},
   "outputs": [],
   "source": [
    "minVal = min(testList) # 최소 최대값 구함\n",
    "maxVal = max(testList)\n",
    "print(minVal)\n",
    "print(maxVal)"
   ]
  },
  {
   "cell_type": "code",
   "execution_count": null,
   "metadata": {},
   "outputs": [],
   "source": [
    "minValCnt = testList.count(minVal) #최소값 최대값 수를 구함\n",
    "maxValCnt = testList.count(maxVal)\n",
    "print(minValCnt)\n",
    "print(maxValCnt)"
   ]
  },
  {
   "cell_type": "code",
   "execution_count": null,
   "metadata": {},
   "outputs": [],
   "source": [
    "for i in range(0,minValCnt):  #리스트안에서 최소 최대값을 지움\n",
    "    testList.remove(minVal)\n",
    "    \n",
    "for i in range(0,maxValCnt):#0부터 마지막 최대값이 있는 곳까지.\n",
    "    testList.remove(maxVal)\n",
    "print(testList)"
   ]
  },
  {
   "cell_type": "code",
   "execution_count": null,
   "metadata": {},
   "outputs": [],
   "source": [
    "##list sort 확인하기 del 쓸때 필요\n",
    "#(index)\n"
   ]
  },
  {
   "cell_type": "code",
   "execution_count": null,
   "metadata": {},
   "outputs": [],
   "source": []
  },
  {
   "cell_type": "code",
   "execution_count": null,
   "metadata": {},
   "outputs": [],
   "source": []
  },
  {
   "cell_type": "code",
   "execution_count": null,
   "metadata": {},
   "outputs": [],
   "source": []
  }
 ],
 "metadata": {
  "kernelspec": {
   "display_name": "Python 3",
   "language": "python",
   "name": "python3"
  },
  "language_info": {
   "codemirror_mode": {
    "name": "ipython",
    "version": 3
   },
   "file_extension": ".py",
   "mimetype": "text/x-python",
   "name": "python",
   "nbconvert_exporter": "python",
   "pygments_lexer": "ipython3",
   "version": "3.6.4"
  }
 },
 "nbformat": 4,
 "nbformat_minor": 2
}
