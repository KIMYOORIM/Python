{
 "cells": [
  {
   "cell_type": "code",
   "execution_count": 1,
   "metadata": {},
   "outputs": [],
   "source": [
    "import socket\n",
    "\n",
    "host='192.168.110.116'\n",
    "mysock=socket.socket(socket.AF_INET, socket.SOCK_STREAM)\n",
    "addr=(host,8031)\n",
    "mysock.connect(addr)\n",
    "\n",
    "try:\n",
    "    msg=b\"This is a test\\n\"\n",
    "    mysock.sendall(msg)\n",
    "except socket.errno as e:\n",
    "    print(\"Socket error \", e)\n",
    "finally:\n",
    "    mysock.close()"
   ]
  },
  {
   "cell_type": "code",
   "execution_count": 2,
   "metadata": {},
   "outputs": [],
   "source": [
    "host='192.168.110.116'\n",
    "mysock=socket.socket(socket.AF_INET, socket.SOCK_STREAM)\n",
    "addr=(host,8031)\n",
    "mysock.connect(addr)\n",
    "\n",
    "try:\n",
    "    msg=b\"This is a test\\n\"\n",
    "    mysock.sendall(msg)\n",
    "except socket.errno as e:\n",
    "    print(\"Socket error \", e)\n",
    "finally:\n",
    "    mysock.close()"
   ]
  },
  {
   "cell_type": "code",
   "execution_count": 3,
   "metadata": {},
   "outputs": [],
   "source": [
    "host='192.168.110.116'\n",
    "mysock=socket.socket(socket.AF_INET, socket.SOCK_STREAM)\n",
    "addr=(host,8031)\n",
    "mysock.connect(addr)\n",
    "\n",
    "try:\n",
    "    msg=b\"This is a test\\n\"\n",
    "    mysock.sendall(msg)\n",
    "except socket.errno as e:\n",
    "    print(\"Socket error \", e)\n",
    "finally:\n",
    "    mysock.close()"
   ]
  },
  {
   "cell_type": "code",
   "execution_count": 4,
   "metadata": {},
   "outputs": [
    {
     "name": "stdout",
     "output_type": "stream",
     "text": [
      "closing connection\n",
      "['HTTP/1.0 200 OK', 'Server: SimpleHTTP/0.6 Python/3.6.5', 'Date: Fri, 10 May 2019 08:16:59 GMT', 'Content-type: text/html; charset=utf-8', 'Content-Length: 876', '']\n"
     ]
    }
   ],
   "source": [
    "import socket\n",
    "\n",
    "sock = socket.socket(socket.AF_INET, socket.SOCK_STREAM)\n",
    "sock.connect((\"192.168.110.116\", 8031))\n",
    "\n",
    "\n",
    "data = ''\n",
    "try:\n",
    "    sock.sendall(b\"GET / HTTP/1.1\\r\\nHost: dev.smrt.net\\r\\n\\r\\n\")\n",
    "    data = sock.recvfrom(1024)\n",
    "except socket.error:\n",
    "    print (\"Socket error\", socket.errno)\n",
    "finally:\n",
    "    print(\"closing connection\")\n",
    "    sock.close()\n",
    "\n",
    "strdata = data[0].decode(\"utf-8\")\n",
    "print( strdata.splitlines())"
   ]
  },
  {
   "cell_type": "code",
   "execution_count": 7,
   "metadata": {
    "scrolled": true
   },
   "outputs": [
    {
     "name": "stdout",
     "output_type": "stream",
     "text": [
      "200\n",
      "Server: SimpleHTTP/0.6 Python/3.6.5\n",
      "Date: Fri, 10 May 2019 08:26:37 GMT\n",
      "Content-type: text/html; charset=utf-8\n",
      "Content-Length: 876\n",
      "\n",
      "\n",
      "<!DOCTYPE HTML PUBLIC \"-//W3C//DTD HTML 4.01//EN\" \"http://www.w3.org/TR/html4/strict.dtd\">\n",
      "\n",
      "<html>\n",
      "\n",
      "<head>\n",
      "\n",
      "<meta http-equiv=\"Content-Type\" content=\"text/html; charset=utf-8\">\n",
      "\n",
      "<title>Directory listing for /</title>\n",
      "\n",
      "</head>\n",
      "\n",
      "<body>\n",
      "\n",
      "<h1>Directory listing for /</h1>\n",
      "\n",
      "<hr>\n",
      "\n",
      "<ul>\n",
      "\n",
      "<li><a href=\"capturePkt.py\">capturePkt.py</a></li>\n",
      "\n",
      "<li><a href=\"portScanning.py\">portScanning.py</a></li>\n",
      "\n",
      "<li><a href=\"receivedData.txt\">receivedData.txt</a></li>\n",
      "\n",
      "<li><a href=\"requestHttp.py\">requestHttp.py</a></li>\n",
      "\n",
      "<li><a href=\"result.txt\">result.txt</a></li>\n",
      "\n",
      "<li><a href=\"SimpleHTTP.py\">SimpleHTTP.py</a></li>\n",
      "\n",
      "<li><a href=\"sockHttpGet1.py\">sockHttpGet1.py</a></li>\n",
      "\n",
      "<li><a href=\"sockHttpGet2.py\">sockHttpGet2.py</a></li>\n",
      "\n",
      "<li><a href=\"sockHttpsGet.py\">sockHttpsGet.py</a></li>\n",
      "\n",
      "<li><a href=\"sockServer.py\">sockServer.py</a></li>\n",
      "\n",
      "<li><a href=\"traceroute.py\">traceroute.py</a></li>\n",
      "\n",
      "</ul>\n",
      "\n",
      "<hr>\n",
      "\n",
      "</body>\n",
      "\n",
      "</html>\n",
      "\n"
     ]
    }
   ],
   "source": [
    "import http.client\n",
    "\n",
    "h = http.client.HTTPConnection(\"192.168.110.116:8031\")\n",
    "h.request(\"GET\", \"/\")\n",
    "data = h.getresponse()\n",
    "print (data.code)\n",
    "print (data.headers)\n",
    "text = data.readlines()\n",
    "for t in text:\n",
    "    print(t.decode('utf-8'))"
   ]
  }
 ],
 "metadata": {
  "kernelspec": {
   "display_name": "Python 3",
   "language": "python",
   "name": "python3"
  },
  "language_info": {
   "codemirror_mode": {
    "name": "ipython",
    "version": 3
   },
   "file_extension": ".py",
   "mimetype": "text/x-python",
   "name": "python",
   "nbconvert_exporter": "python",
   "pygments_lexer": "ipython3",
   "version": "3.6.4"
  }
 },
 "nbformat": 4,
 "nbformat_minor": 2
}
